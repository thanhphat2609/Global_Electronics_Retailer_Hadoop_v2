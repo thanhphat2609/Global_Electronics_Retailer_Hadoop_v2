{
 "cells": [
  {
   "cell_type": "code",
   "execution_count": 1,
   "metadata": {},
   "outputs": [],
   "source": [
    "import findspark\n",
    "findspark.init(spark_home = \"/home/thanhphat/BigData/spark-3.5.0-bin-hadoop3\")"
   ]
  },
  {
   "cell_type": "code",
   "execution_count": 2,
   "metadata": {},
   "outputs": [],
   "source": [
    "from pyspark.sql import SparkSession\n",
    "\n",
    "import traceback\n",
    "import pyspark.sql.functions as f\n",
    "import pyspark.sql.types as t\n",
    "\n",
    "\n",
    "project_name = \"Global_Electronics_Retailer\""
   ]
  },
  {
   "cell_type": "code",
   "execution_count": 7,
   "metadata": {},
   "outputs": [
    {
     "name": "stderr",
     "output_type": "stream",
     "text": [
      "24/06/28 22:08:36 WARN Utils: Your hostname, thanhphat-inspiron-5406-2n1 resolves to a loopback address: 127.0.1.1; using 192.168.1.8 instead (on interface wlp0s20f3)\n",
      "24/06/28 22:08:36 WARN Utils: Set SPARK_LOCAL_IP if you need to bind to another address\n"
     ]
    },
    {
     "name": "stdout",
     "output_type": "stream",
     "text": [
      ":: loading settings :: url = jar:file:/home/thanhphat/BigData/spark-3.5.0-bin-hadoop3/jars/ivy-2.5.1.jar!/org/apache/ivy/core/settings/ivysettings.xml\n"
     ]
    },
    {
     "name": "stderr",
     "output_type": "stream",
     "text": [
      "Ivy Default Cache set to: /home/thanhphat/.ivy2/cache\n",
      "The jars for the packages stored in: /home/thanhphat/.ivy2/jars\n",
      "io.delta#delta-core_2.12 added as a dependency\n",
      ":: resolving dependencies :: org.apache.spark#spark-submit-parent-f2315066-311d-4c12-802c-a5ac09d3a605;1.0\n",
      "\tconfs: [default]\n",
      "\tfound io.delta#delta-core_2.12;2.4.0 in central\n",
      "\tfound io.delta#delta-storage;2.4.0 in central\n",
      "\tfound org.antlr#antlr4-runtime;4.9.3 in central\n",
      ":: resolution report :: resolve 333ms :: artifacts dl 11ms\n",
      "\t:: modules in use:\n",
      "\tio.delta#delta-core_2.12;2.4.0 from central in [default]\n",
      "\tio.delta#delta-storage;2.4.0 from central in [default]\n",
      "\torg.antlr#antlr4-runtime;4.9.3 from central in [default]\n",
      "\t---------------------------------------------------------------------\n",
      "\t|                  |            modules            ||   artifacts   |\n",
      "\t|       conf       | number| search|dwnlded|evicted|| number|dwnlded|\n",
      "\t---------------------------------------------------------------------\n",
      "\t|      default     |   3   |   0   |   0   |   0   ||   3   |   0   |\n",
      "\t---------------------------------------------------------------------\n",
      ":: retrieving :: org.apache.spark#spark-submit-parent-f2315066-311d-4c12-802c-a5ac09d3a605\n",
      "\tconfs: [default]\n",
      "\t0 artifacts copied, 3 already retrieved (0kB/9ms)\n",
      "24/06/28 22:08:37 WARN NativeCodeLoader: Unable to load native-hadoop library for your platform... using builtin-java classes where applicable\n",
      "Setting default log level to \"WARN\".\n",
      "To adjust logging level use sc.setLogLevel(newLevel). For SparkR, use setLogLevel(newLevel).\n"
     ]
    }
   ],
   "source": [
    "# Config\n",
    "    # Number of executor: 2\n",
    "    # 2 CPU for each executor\n",
    "    # 2g memory for each executor\n",
    "\n",
    "# Create SparkSession\n",
    "spark = SparkSession.builder.master(\"local[4]\") \\\n",
    "    .appName(\"Bronze_to_Silver\") \\\n",
    "    .config(\"spark.sql.warehouse.dir\", f\"hdfs://localhost:9000/lakehouse/warehouse/LH_{project_name}\") \\\n",
    "    .config(\"spark.sql.catalogImplementation\", \"hive\").enableHiveSupport() \\\n",
    "    .config(\"spark.jars.packages\", \"io.delta:delta-core_2.12:2.4.0\") \\\n",
    "    .config(\"spark.sql.extensions\", \"io.delta.sql.DeltaSparkSessionExtension\") \\\n",
    "    .config(\"spark.sql.catalog.spark_catalog\", \"org.apache.spark.sql.delta.catalog.DeltaCatalog\") \\\n",
    "    .config(\"spark.sql.parquet.vorder.enabled\", \"true\") \\\n",
    "    .config(\"spark.sql.shuffle.partitions\", 100) \\\n",
    "    .config(\"spark.driver.memory\", \"2g\") \\\n",
    "    .config(\"spark.executor.instances\", \"2\") \\\n",
    "    .config(\"spark.executor.cores\", \"2\") \\\n",
    "    .config(\"spark.executor.memory\", \"2g\") \\\n",
    "    .getOrCreate()"
   ]
  },
  {
   "cell_type": "code",
   "execution_count": null,
   "metadata": {},
   "outputs": [],
   "source": [
    "from modules.Extraction import *\n",
    "from modules.HDFSUtils import *\n",
    "from modules.LogUtils import *\n",
    "from modules.Metadata import *\n",
    "from modules.Load import *\n",
    "\n",
    "\n",
    "# Instance for modules\n",
    "extraction = Extraction()\n",
    "hdfsUtils = HDFSUtils()\n",
    "logUtils = LogUtils() \n",
    "metadata = Metadata()\n",
    "loadHive = Load()\n",
    "\n",
    "# Define base_path\n",
    "lakewarehouse_db = f\"LH_{project_name}\"\n",
    "lakehouse_table_path = f\"hdfs://localhost:9000/lakehouse/LH_{project_name}/Tables\"\n",
    "log_path = f\"hdfs://localhost:9000/lakehouse/LH_{project_name}/Files/log\""
   ]
  },
  {
   "cell_type": "code",
   "execution_count": null,
   "metadata": {},
   "outputs": [],
   "source": [
    "executionDate = str(spark.sql(\"SELECT CURRENT_DATE()\").collect()[0][0])\n",
    "\n",
    "# Partition Execution Date\n",
    "parse_execution = executionDate.split(\"-\")\n",
    "year = parse_execution[0]\n",
    "month = parse_execution[1]\n",
    "day = parse_execution[2]"
   ]
  },
  {
   "cell_type": "markdown",
   "metadata": {},
   "source": [
    "## Metadata Table Action "
   ]
  },
  {
   "cell_type": "code",
   "execution_count": null,
   "metadata": {},
   "outputs": [],
   "source": [
    "# Read metadata action\n",
    "metadata_action = metadata.read_metadata_action(\"admin\", \"admin\", \"metadata\", \"config_table\", \\\n",
    "                                                \"CusDB -> Bronze\")\n",
    "\n",
    "\n",
    "# Define for log job\n",
    "batch_run = hdfsUtils.check_batch_run(project_name, executionDate) - 1\n",
    "start_time = \"\"\n",
    "end_time = \"\"\n",
    "error = \"\"\n",
    "status = \"\"\n",
    "source_row_read = 0\n",
    "numInserted = 0\n",
    "numUpdated = 0\n",
    "\n",
    "\n",
    "from delta.tables import *\n",
    "\n",
    "\n",
    "for metadata in metadata_action:\n",
    "\n",
    "    # None df\n",
    "    df = None\n",
    "\n",
    "    task_id = metadata[\"task_id\"]\n",
    "    task_name = metadata[\"task_name\"]\n",
    "    source_connection = metadata[\"source_connection\"]\n",
    "    target_database = metadata[\"target_database\"]\n",
    "    source_table = metadata[\"source_table\"].lower()\n",
    "    target_table = metadata[\"target_table\"]\n",
    "    phase = metadata[\"phase\"]\n",
    "\n",
    "    # Start time for check\n",
    "    start_time = spark.sql(''' SELECT CURRENT_TIMESTAMP() as current_time ''') \\\n",
    "                        .collect()[0][\"current_time\"].strftime('%Y-%m-%d %H:%M:%S')\n",
    "\n",
    "    try:\n",
    "        # New df path\n",
    "        new_path_version = hdfsUtils.get_new_version(executionDate, project_name, source_table)\n",
    "\n",
    "        df = spark.read.format(\"parquet\").load(new_path_version)\n",
    "        # df.show()\n",
    "        deltaTablePath = f\"{lakehouse_table_path}/{target_table}\"\n",
    "\n",
    "        if DeltaTable.isDeltaTable(spark, deltaTablePath):\n",
    "\n",
    "            # Condition for Upsert\n",
    "            mergeKeyExpr = \" AND \".join(f\"target.{col} = source.{col}\" for col in df.columns) \n",
    "\n",
    "            # Upsert(Update existing, Insert new) data\n",
    "            deltaTable = DeltaTable.forPath(spark, deltaTablePath)\n",
    "            deltaTable.alias(\"target\").merge(\n",
    "                df.alias(\"source\"),\n",
    "                mergeKeyExpr\n",
    "            ).whenMatchedUpdateAll().whenNotMatchedInsertAll().execute()\n",
    "\n",
    "            # Get information\n",
    "            history = deltaTable.history(1).select(\"operationMetrics\")\n",
    "            operationMetrics = history.collect()[0][\"operationMetrics\"]\n",
    "\n",
    "            source_row_read = df.count()\n",
    "            numInserted = operationMetrics[\"numTargetRowsInserted\"]\n",
    "            numUpdated = operationMetrics[\"numTargetRowsUpdated\"]\n",
    "        else:\n",
    "            loadHive.writeInit(df, spark, lakehouse_table_path, lakewarehouse_db, \\\n",
    "                               target_table, new_path_version)\n",
    "            \n",
    "            source_row_read = df.count()\n",
    "            numInserted = df.count()\n",
    "            numUpdated = 0\n",
    "\n",
    "        # Load to delta\n",
    "    except:\n",
    "        error = traceback.format_exc()\n",
    "        status = \"Failed\"\n",
    "\n",
    "        print(\"Task \", task_id, \" \", status)\n",
    "\n",
    "    else:\n",
    "        error = \"\"\n",
    "        status = \"Success\"\n",
    "        print(\"Task \", task_id, \" \", status)\n",
    "\n",
    "\n",
    "    df_log = logUtils.log_data(batch_run, task_name, source_connection, target_database, target_table,\n",
    "                 start_time, end_time, source_row_read, numInserted, numUpdated, \"\", \n",
    "                 \"\", error, status, phase, t, spark)\n",
    "\n",
    "    df_log.write.mode(\"append\").format(\"parquet\").save(f\"{log_path}/{executionDate}/batch_{batch_run}/\")"
   ]
  }
 ],
 "metadata": {
  "kernelspec": {
   "display_name": "Python 3",
   "language": "python",
   "name": "python3"
  },
  "language_info": {
   "codemirror_mode": {
    "name": "ipython",
    "version": 3
   },
   "file_extension": ".py",
   "mimetype": "text/x-python",
   "name": "python",
   "nbconvert_exporter": "python",
   "pygments_lexer": "ipython3",
   "version": "3.10.12"
  }
 },
 "nbformat": 4,
 "nbformat_minor": 2
}
