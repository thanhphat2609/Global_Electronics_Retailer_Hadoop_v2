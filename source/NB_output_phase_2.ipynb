{
 "cells": [
  {
   "cell_type": "code",
   "execution_count": 1,
   "id": "ea475046",
   "metadata": {
    "execution": {
     "iopub.execute_input": "2024-06-29T05:09:10.576508Z",
     "iopub.status.busy": "2024-06-29T05:09:10.575819Z",
     "iopub.status.idle": "2024-06-29T05:09:10.641652Z",
     "shell.execute_reply": "2024-06-29T05:09:10.642093Z"
    },
    "jupyter": {
     "source_hidden": true
    },
    "papermill": {
     "duration": 0.080978,
     "end_time": "2024-06-29T05:09:10.642244",
     "exception": false,
     "start_time": "2024-06-29T05:09:10.561266",
     "status": "completed"
    },
    "tags": []
   },
   "outputs": [],
   "source": [
    "import findspark\n",
    "findspark.init(spark_home = \"/home/thanhphat/BigData/spark-3.5.0-bin-hadoop3\")"
   ]
  },
  {
   "cell_type": "code",
   "execution_count": 2,
   "id": "4fafe6de",
   "metadata": {
    "execution": {
     "iopub.execute_input": "2024-06-29T05:09:10.651026Z",
     "iopub.status.busy": "2024-06-29T05:09:10.650689Z",
     "iopub.status.idle": "2024-06-29T05:09:11.119069Z",
     "shell.execute_reply": "2024-06-29T05:09:11.118725Z"
    },
    "jupyter": {
     "source_hidden": true
    },
    "papermill": {
     "duration": 0.474726,
     "end_time": "2024-06-29T05:09:11.119155",
     "exception": false,
     "start_time": "2024-06-29T05:09:10.644429",
     "status": "completed"
    },
    "tags": []
   },
   "outputs": [],
   "source": [
    "from pyspark.sql import SparkSession\n",
    "\n",
    "import traceback\n",
    "import pyspark.sql.functions as f\n",
    "import pyspark.sql.types as t\n",
    "\n",
    "project_name = \"Global_Electronics_Retailer\""
   ]
  },
  {
   "cell_type": "code",
   "execution_count": 3,
   "id": "8b71affc",
   "metadata": {
    "execution": {
     "iopub.execute_input": "2024-06-29T05:09:11.125190Z",
     "iopub.status.busy": "2024-06-29T05:09:11.124922Z",
     "iopub.status.idle": "2024-06-29T05:09:31.237354Z",
     "shell.execute_reply": "2024-06-29T05:09:31.237641Z"
    },
    "jupyter": {
     "source_hidden": true
    },
    "papermill": {
     "duration": 20.116875,
     "end_time": "2024-06-29T05:09:31.237724",
     "exception": false,
     "start_time": "2024-06-29T05:09:11.120849",
     "status": "completed"
    },
    "tags": []
   },
   "outputs": [
    {
     "name": "stderr",
     "output_type": "stream",
     "text": [
      "24/06/29 12:09:24 WARN Utils: Your hostname, thanhphat-inspiron-5406-2n1 resolves to a loopback address: 127.0.1.1; using 192.168.1.8 instead (on interface wlp0s20f3)\n",
      "24/06/29 12:09:24 WARN Utils: Set SPARK_LOCAL_IP if you need to bind to another address\n"
     ]
    },
    {
     "name": "stderr",
     "output_type": "stream",
     "text": [
      "Setting default log level to \"WARN\".\n",
      "To adjust logging level use sc.setLogLevel(newLevel). For SparkR, use setLogLevel(newLevel).\n"
     ]
    },
    {
     "name": "stderr",
     "output_type": "stream",
     "text": [
      "24/06/29 12:09:26 WARN NativeCodeLoader: Unable to load native-hadoop library for your platform... using builtin-java classes where applicable\n"
     ]
    },
    {
     "name": "stderr",
     "output_type": "stream",
     "text": [
      "24/06/29 12:09:29 WARN Utils: Service 'SparkUI' could not bind on port 4040. Attempting port 4041.\n",
      "24/06/29 12:09:29 WARN Utils: Service 'SparkUI' could not bind on port 4041. Attempting port 4042.\n"
     ]
    },
    {
     "data": {
      "text/plain": [
       "[('spark.app.name', 'Bronze_to_Silver'),\n",
       " ('spark.executor.extraJavaOptions',\n",
       "  '-Djava.net.preferIPv6Addresses=false -XX:+IgnoreUnrecognizedVMOptions --add-opens=java.base/java.lang=ALL-UNNAMED --add-opens=java.base/java.lang.invoke=ALL-UNNAMED --add-opens=java.base/java.lang.reflect=ALL-UNNAMED --add-opens=java.base/java.io=ALL-UNNAMED --add-opens=java.base/java.net=ALL-UNNAMED --add-opens=java.base/java.nio=ALL-UNNAMED --add-opens=java.base/java.util=ALL-UNNAMED --add-opens=java.base/java.util.concurrent=ALL-UNNAMED --add-opens=java.base/java.util.concurrent.atomic=ALL-UNNAMED --add-opens=java.base/sun.nio.ch=ALL-UNNAMED --add-opens=java.base/sun.nio.cs=ALL-UNNAMED --add-opens=java.base/sun.security.action=ALL-UNNAMED --add-opens=java.base/sun.util.calendar=ALL-UNNAMED --add-opens=java.security.jgss/sun.security.krb5=ALL-UNNAMED -Djdk.reflect.useDirectMethodHandle=false'),\n",
       " ('spark.executor.memory', '2g'),\n",
       " ('spark.master', 'local[4]'),\n",
       " ('spark.driver.host', '192.168.1.8'),\n",
       " ('spark.sql.warehouse.dir',\n",
       "  'hdfs://localhost:9000/lakehouse/warehouse/LH_Global_Electronics_Retailer'),\n",
       " ('spark.executor.id', 'driver'),\n",
       " ('spark.executor.cores', '2'),\n",
       " ('spark.app.startTime', '1719637765930'),\n",
       " ('spark.app.id', 'local-1719637769205'),\n",
       " ('spark.sql.shuffle.partitions', '100'),\n",
       " ('spark.driver.extraJavaOptions',\n",
       "  '-Djava.net.preferIPv6Addresses=false -XX:+IgnoreUnrecognizedVMOptions --add-opens=java.base/java.lang=ALL-UNNAMED --add-opens=java.base/java.lang.invoke=ALL-UNNAMED --add-opens=java.base/java.lang.reflect=ALL-UNNAMED --add-opens=java.base/java.io=ALL-UNNAMED --add-opens=java.base/java.net=ALL-UNNAMED --add-opens=java.base/java.nio=ALL-UNNAMED --add-opens=java.base/java.util=ALL-UNNAMED --add-opens=java.base/java.util.concurrent=ALL-UNNAMED --add-opens=java.base/java.util.concurrent.atomic=ALL-UNNAMED --add-opens=java.base/sun.nio.ch=ALL-UNNAMED --add-opens=java.base/sun.nio.cs=ALL-UNNAMED --add-opens=java.base/sun.security.action=ALL-UNNAMED --add-opens=java.base/sun.util.calendar=ALL-UNNAMED --add-opens=java.security.jgss/sun.security.krb5=ALL-UNNAMED -Djdk.reflect.useDirectMethodHandle=false'),\n",
       " ('spark.sql.parquet.vorder.enabled', 'true'),\n",
       " ('spark.sql.catalogImplementation', 'hive'),\n",
       " ('spark.sql.extensions', 'io.delta.sql.DeltaSparkSessionExtension'),\n",
       " ('spark.rdd.compress', 'True'),\n",
       " ('spark.executor.instances', '2'),\n",
       " ('spark.driver.memory', '2g'),\n",
       " ('spark.serializer.objectStreamReset', '100'),\n",
       " ('spark.submit.pyFiles', ''),\n",
       " ('spark.submit.deployMode', 'client'),\n",
       " ('spark.driver.port', '34553'),\n",
       " ('spark.ui.showConsoleProgress', 'true'),\n",
       " ('spark.sql.catalog.spark_catalog',\n",
       "  'org.apache.spark.sql.delta.catalog.DeltaCatalog'),\n",
       " ('spark.app.submitTime', '1719637765594')]"
      ]
     },
     "execution_count": 3,
     "metadata": {},
     "output_type": "execute_result"
    }
   ],
   "source": [
    "# Config\n",
    "    # Number of executor: 2\n",
    "    # 2 CPU for each executor\n",
    "    # 2g memory for each executor\n",
    "\n",
    "# Create SparkSession\n",
    "spark = SparkSession.builder.master(\"local[4]\") \\\n",
    "    .appName(\"Bronze_to_Silver\") \\\n",
    "    .config(\"spark.sql.warehouse.dir\", f\"hdfs://localhost:9000/lakehouse/warehouse/LH_{project_name}\") \\\n",
    "    .config(\"spark.sql.catalogImplementation\", \"hive\").enableHiveSupport() \\\n",
    "    .config(\"spark.sql.extensions\", \"io.delta.sql.DeltaSparkSessionExtension\") \\\n",
    "    .config(\"spark.sql.catalog.spark_catalog\", \"org.apache.spark.sql.delta.catalog.DeltaCatalog\") \\\n",
    "    .config(\"spark.sql.parquet.vorder.enabled\", \"true\") \\\n",
    "    .config(\"spark.sql.shuffle.partitions\", 100) \\\n",
    "    .config(\"spark.driver.memory\", \"2g\") \\\n",
    "    .config(\"spark.executor.instances\", \"2\") \\\n",
    "    .config(\"spark.executor.cores\", \"2\") \\\n",
    "    .config(\"spark.executor.memory\", \"2g\") \\\n",
    "    .getOrCreate()\n",
    "\n",
    "# Get all config\n",
    "spark.sparkContext.getConf().getAll()"
   ]
  },
  {
   "cell_type": "code",
   "execution_count": 4,
   "id": "5a71d205",
   "metadata": {
    "execution": {
     "iopub.execute_input": "2024-06-29T05:09:31.244967Z",
     "iopub.status.busy": "2024-06-29T05:09:31.244597Z",
     "iopub.status.idle": "2024-06-29T05:09:31.911847Z",
     "shell.execute_reply": "2024-06-29T05:09:31.912139Z"
    },
    "jupyter": {
     "source_hidden": true
    },
    "papermill": {
     "duration": 0.672755,
     "end_time": "2024-06-29T05:09:31.912221",
     "exception": false,
     "start_time": "2024-06-29T05:09:31.239466",
     "status": "completed"
    },
    "tags": []
   },
   "outputs": [],
   "source": [
    "import sys\n",
    "sys.path.append(\"/home/thanhphat/PersonalProject/Global_Electronics_Retailer/source\")\n",
    "\n",
    "from modules.Extraction import *\n",
    "from modules.HDFSUtils import *\n",
    "from modules.LogUtils import *\n",
    "from modules.Metadata import *\n",
    "from modules.Load import *\n",
    "\n",
    "\n",
    "# Instance for modules\n",
    "extraction = Extraction()\n",
    "hdfsUtils = HDFSUtils()\n",
    "logUtils = LogUtils() \n",
    "metadata = Metadata()\n",
    "loadHive = Load()\n",
    "\n",
    "# Define base_path\n",
    "lakewarehouse_db = f\"LH_{project_name}\"\n",
    "lakehouse_table_path = f\"hdfs://localhost:9000/lakehouse/LH_{project_name}/Tables\"\n",
    "log_path = f\"hdfs://localhost:9000/lakehouse/LH_{project_name}/Files/log\""
   ]
  },
  {
   "cell_type": "code",
   "execution_count": 5,
   "id": "072bfc22",
   "metadata": {
    "execution": {
     "iopub.execute_input": "2024-06-29T05:09:31.918583Z",
     "iopub.status.busy": "2024-06-29T05:09:31.918276Z",
     "iopub.status.idle": "2024-06-29T05:09:46.422898Z",
     "shell.execute_reply": "2024-06-29T05:09:46.422641Z"
    },
    "jupyter": {
     "source_hidden": true
    },
    "papermill": {
     "duration": 14.509255,
     "end_time": "2024-06-29T05:09:46.422981",
     "exception": false,
     "start_time": "2024-06-29T05:09:31.913726",
     "status": "completed"
    },
    "tags": []
   },
   "outputs": [
    {
     "name": "stderr",
     "output_type": "stream",
     "text": [
      "\r",
      "[Stage 0:>                                                          (0 + 0) / 1]\r"
     ]
    },
    {
     "name": "stderr",
     "output_type": "stream",
     "text": [
      "\r",
      "[Stage 0:>                                                          (0 + 1) / 1]\r"
     ]
    },
    {
     "name": "stderr",
     "output_type": "stream",
     "text": [
      "\r",
      "                                                                                \r"
     ]
    }
   ],
   "source": [
    "executionDate = str(spark.sql(\"SELECT CURRENT_DATE()\").collect()[0][0])\n",
    "\n",
    "# Partition Execution Date\n",
    "parse_execution = executionDate.split(\"-\")\n",
    "year = parse_execution[0]\n",
    "month = parse_execution[1]\n",
    "day = parse_execution[2]"
   ]
  },
  {
   "cell_type": "markdown",
   "id": "309e7c64",
   "metadata": {
    "papermill": {
     "duration": 0.002819,
     "end_time": "2024-06-29T05:09:46.479992",
     "exception": false,
     "start_time": "2024-06-29T05:09:46.477173",
     "status": "completed"
    },
    "tags": []
   },
   "source": [
    "## Metadata Table Action "
   ]
  },
  {
   "cell_type": "code",
   "execution_count": 6,
   "id": "48c14b91",
   "metadata": {
    "execution": {
     "iopub.execute_input": "2024-06-29T05:09:46.509167Z",
     "iopub.status.busy": "2024-06-29T05:09:46.508836Z",
     "iopub.status.idle": "2024-06-29T05:16:37.788042Z",
     "shell.execute_reply": "2024-06-29T05:16:37.788772Z"
    },
    "jupyter": {
     "source_hidden": true
    },
    "papermill": {
     "duration": 411.345179,
     "end_time": "2024-06-29T05:16:37.826897",
     "exception": false,
     "start_time": "2024-06-29T05:09:46.481718",
     "status": "completed"
    },
    "tags": []
   },
   "outputs": [
    {
     "name": "stderr",
     "output_type": "stream",
     "text": [
      "\r",
      "[Stage 2:>                                                          (0 + 1) / 1]\r"
     ]
    },
    {
     "name": "stderr",
     "output_type": "stream",
     "text": [
      "\r",
      "                                                                                \r"
     ]
    },
    {
     "name": "stderr",
     "output_type": "stream",
     "text": [
      "\r",
      "[Stage 3:>                                                          (0 + 1) / 1]\r"
     ]
    },
    {
     "name": "stderr",
     "output_type": "stream",
     "text": [
      "\r",
      "                                                                                \r"
     ]
    },
    {
     "name": "stderr",
     "output_type": "stream",
     "text": [
      "24/06/29 12:10:35 WARN HiveConf: HiveConf of name hive.metastore.wm.default.pool.size does not exist\n",
      "24/06/29 12:10:35 WARN HiveConf: HiveConf of name hive.llap.task.scheduler.preempt.independent does not exist\n",
      "24/06/29 12:10:35 WARN HiveConf: HiveConf of name hive.llap.output.format.arrow does not exist\n",
      "24/06/29 12:10:35 WARN HiveConf: HiveConf of name hive.tez.llap.min.reducer.per.executor does not exist\n",
      "24/06/29 12:10:35 WARN HiveConf: HiveConf of name hive.arrow.root.allocator.limit does not exist\n",
      "24/06/29 12:10:35 WARN HiveConf: HiveConf of name hive.vectorized.use.checked.expressions does not exist\n",
      "24/06/29 12:10:35 WARN HiveConf: HiveConf of name hive.tez.dynamic.semijoin.reduction.for.mapjoin does not exist\n",
      "24/06/29 12:10:35 WARN HiveConf: HiveConf of name hive.vectorized.complex.types.enabled does not exist\n",
      "24/06/29 12:10:35 WARN HiveConf: HiveConf of name hive.server2.wm.worker.threads does not exist\n",
      "24/06/29 12:10:35 WARN HiveConf: HiveConf of name hive.repl.partitions.dump.parallelism does not exist\n",
      "24/06/29 12:10:35 WARN HiveConf: HiveConf of name hive.metastore.uri.selection does not exist\n",
      "24/06/29 12:10:35 WARN HiveConf: HiveConf of name hive.strict.checks.no.partition.filter does not exist\n",
      "24/06/29 12:10:35 WARN HiveConf: HiveConf of name hive.tez.dynamic.semijoin.reduction.for.dpp.factor does not exist\n",
      "24/06/29 12:10:35 WARN HiveConf: HiveConf of name hive.stats.filter.in.min.ratio does not exist\n",
      "24/06/29 12:10:35 WARN HiveConf: HiveConf of name hive.metastore.client.cache.initial.capacity does not exist\n",
      "24/06/29 12:10:35 WARN HiveConf: HiveConf of name hive.stats.ndv.estimate.percent does not exist\n",
      "24/06/29 12:10:35 WARN HiveConf: HiveConf of name hive.server2.webui.cors.allowed.methods does not exist\n",
      "24/06/29 12:10:35 WARN HiveConf: HiveConf of name hive.optimize.joinreducededuplication does not exist\n",
      "24/06/29 12:10:35 WARN HiveConf: HiveConf of name hive.metastore.client.cache.enabled does not exist\n",
      "24/06/29 12:10:35 WARN HiveConf: HiveConf of name hive.stats.fetch.bitvector does not exist\n",
      "24/06/29 12:10:35 WARN HiveConf: HiveConf of name hive.disable.unsafe.external.table.operations does not exist\n",
      "24/06/29 12:10:35 WARN HiveConf: HiveConf of name hive.materializedview.rewriting.incremental does not exist\n",
      "24/06/29 12:10:35 WARN HiveConf: HiveConf of name hive.server2.materializedviews.registry.impl does not exist\n",
      "24/06/29 12:10:35 WARN HiveConf: HiveConf of name hive.metastore.event.db.notification.api.auth does not exist\n",
      "24/06/29 12:10:35 WARN HiveConf: HiveConf of name hive.exec.orc.delta.streaming.optimizations.enabled does not exist\n",
      "24/06/29 12:10:35 WARN HiveConf: HiveConf of name hive.stats.ndv.algo does not exist\n",
      "24/06/29 12:10:35 WARN HiveConf: HiveConf of name hive.spark.job.max.tasks does not exist\n",
      "24/06/29 12:10:35 WARN HiveConf: HiveConf of name hive.msck.repair.batch.max.retries does not exist\n",
      "24/06/29 12:10:35 WARN HiveConf: HiveConf of name hive.prewarm.spark.timeout does not exist\n",
      "24/06/29 12:10:35 WARN HiveConf: HiveConf of name hive.optimize.update.table.properties.from.serde.list does not exist\n",
      "24/06/29 12:10:35 WARN HiveConf: HiveConf of name hive.llap.plugin.client.num.threads does not exist\n",
      "24/06/29 12:10:35 WARN HiveConf: HiveConf of name hive.test.bucketcodec.version does not exist\n",
      "24/06/29 12:10:35 WARN HiveConf: HiveConf of name hive.query.reexecution.enabled does not exist\n",
      "24/06/29 12:10:35 WARN HiveConf: HiveConf of name hive.materializedview.rewriting.time.window does not exist\n",
      "24/06/29 12:10:35 WARN HiveConf: HiveConf of name hive.query.reexecution.stats.cache.batch.size does not exist\n",
      "24/06/29 12:10:35 WARN HiveConf: HiveConf of name hive.server2.webui.cors.allowed.headers does not exist\n",
      "24/06/29 12:10:35 WARN HiveConf: HiveConf of name hive.join.inner.residual does not exist\n",
      "24/06/29 12:10:35 WARN HiveConf: HiveConf of name hive.server2.active.passive.ha.enable does not exist\n",
      "24/06/29 12:10:35 WARN HiveConf: HiveConf of name hive.llap.io.trace.always.dump does not exist\n",
      "24/06/29 12:10:35 WARN HiveConf: HiveConf of name hive.query.reexecution.stats.persist.scope does not exist\n",
      "24/06/29 12:10:35 WARN HiveConf: HiveConf of name hive.mm.allow.originals does not exist\n",
      "24/06/29 12:10:35 WARN HiveConf: HiveConf of name hive.compactor.compact.insert.only does not exist\n",
      "24/06/29 12:10:35 WARN HiveConf: HiveConf of name hive.txn.xlock.iow does not exist\n",
      "24/06/29 12:10:35 WARN HiveConf: HiveConf of name hive.spark.rsc.conf.list does not exist\n",
      "24/06/29 12:10:35 WARN HiveConf: HiveConf of name hive.llap.cache.defaultfs.only.native.fileid does not exist\n",
      "24/06/29 12:10:35 WARN HiveConf: HiveConf of name hive.spark.optimize.shuffle.serde does not exist\n",
      "24/06/29 12:10:35 WARN HiveConf: HiveConf of name hive.testing.remove.logs does not exist\n",
      "24/06/29 12:10:35 WARN HiveConf: HiveConf of name hive.distcp.privileged.doAs does not exist\n",
      "24/06/29 12:10:35 WARN HiveConf: HiveConf of name hive.strict.checks.orderby.no.limit does not exist\n",
      "24/06/29 12:10:35 WARN HiveConf: HiveConf of name hive.metastore.client.cache.expiry.time does not exist\n",
      "24/06/29 12:10:35 WARN HiveConf: HiveConf of name hive.llap.io.allocator.defrag.headroom does not exist\n",
      "24/06/29 12:10:35 WARN HiveConf: HiveConf of name hive.notification.event.consumers does not exist\n",
      "24/06/29 12:10:35 WARN HiveConf: HiveConf of name hive.vectorized.input.format.supports.enabled does not exist\n",
      "24/06/29 12:10:35 WARN HiveConf: HiveConf of name hive.metastore.client.cache.max.capacity does not exist\n",
      "24/06/29 12:10:35 WARN HiveConf: HiveConf of name hive.repl.dumpdir.clean.freq does not exist\n",
      "24/06/29 12:10:35 WARN HiveConf: HiveConf of name hive.spark.use.ts.stats.for.mapjoin does not exist\n",
      "24/06/29 12:10:35 WARN HiveConf: HiveConf of name hive.repl.dump.include.acid.tables does not exist\n",
      "24/06/29 12:10:35 WARN HiveConf: HiveConf of name hive.server2.webui.use.pam does not exist\n",
      "24/06/29 12:10:35 WARN HiveConf: HiveConf of name hive.query.reexecution.max.count does not exist\n",
      "24/06/29 12:10:35 WARN HiveConf: HiveConf of name hive.llap.io.share.object.pools does not exist\n",
      "24/06/29 12:10:35 WARN HiveConf: HiveConf of name hive.optimize.update.table.properties.from.serde does not exist\n",
      "24/06/29 12:10:35 WARN HiveConf: HiveConf of name hive.service.metrics.codahale.reporter.classes does not exist\n",
      "24/06/29 12:10:35 WARN HiveConf: HiveConf of name hive.tez.session.events.print.summary does not exist\n",
      "24/06/29 12:10:35 WARN HiveConf: HiveConf of name hive.llap.io.vrb.queue.limit.base does not exist\n",
      "24/06/29 12:10:35 WARN HiveConf: HiveConf of name hive.mm.avoid.s3.globstatus does not exist\n",
      "24/06/29 12:10:35 WARN HiveConf: HiveConf of name hive.repl.replica.functions.root.dir does not exist\n",
      "24/06/29 12:10:35 WARN HiveConf: HiveConf of name hive.query.results.cache.max.entry.lifetime does not exist\n",
      "24/06/29 12:10:35 WARN HiveConf: HiveConf of name hive.server2.limit.connections.per.user does not exist\n",
      "24/06/29 12:10:35 WARN HiveConf: HiveConf of name hive.server2.thrift.http.compression.enabled does not exist\n",
      "24/06/29 12:10:35 WARN HiveConf: HiveConf of name hive.vectorized.execution.ptf.enabled does not exist\n",
      "24/06/29 12:10:35 WARN HiveConf: HiveConf of name hive.optimize.shared.work.extended does not exist\n",
      "24/06/29 12:10:35 WARN HiveConf: HiveConf of name hive.vectorized.row.identifier.enabled does not exist\n",
      "24/06/29 12:10:35 WARN HiveConf: HiveConf of name hive.query.reexecution.always.collect.operator.stats does not exist\n",
      "24/06/29 12:10:35 WARN HiveConf: HiveConf of name hive.repl.dumpdir.ttl does not exist\n",
      "24/06/29 12:10:35 WARN HiveConf: HiveConf of name hive.local.time.zone does not exist\n",
      "24/06/29 12:10:35 WARN HiveConf: HiveConf of name hive.server2.tez.wm.am.registry.timeout does not exist\n",
      "24/06/29 12:10:35 WARN HiveConf: HiveConf of name hive.server2.active.passive.ha.registry.namespace does not exist\n",
      "24/06/29 12:10:35 WARN HiveConf: HiveConf of name hive.create.as.insert.only does not exist\n",
      "24/06/29 12:10:35 WARN HiveConf: HiveConf of name hive.llap.mapjoin.memory.oversubscribe.factor does not exist\n",
      "24/06/29 12:10:35 WARN HiveConf: HiveConf of name hive.arrow.batch.size does not exist\n",
      "24/06/29 12:10:35 WARN HiveConf: HiveConf of name hive.notification.sequence.lock.retry.sleep.interval does not exist\n",
      "24/06/29 12:10:35 WARN HiveConf: HiveConf of name hive.repl.approx.max.load.tasks does not exist\n",
      "24/06/29 12:10:35 WARN HiveConf: HiveConf of name hive.query.results.cache.enabled does not exist\n",
      "24/06/29 12:10:35 WARN HiveConf: HiveConf of name hive.legacy.schema.for.all.serdes does not exist\n",
      "24/06/29 12:10:35 WARN HiveConf: HiveConf of name hive.tez.dag.status.check.interval does not exist\n",
      "24/06/29 12:10:35 WARN HiveConf: HiveConf of name hive.druid.bitmap.type does not exist\n",
      "24/06/29 12:10:35 WARN HiveConf: HiveConf of name hive.spark.dynamic.partition.pruning.map.join.only does not exist\n",
      "24/06/29 12:10:35 WARN HiveConf: HiveConf of name hive.llap.memory.oversubscription.max.executors.per.query does not exist\n",
      "24/06/29 12:10:35 WARN HiveConf: HiveConf of name hive.llap.io.trace.size does not exist\n",
      "24/06/29 12:10:35 WARN HiveConf: HiveConf of name hive.llap.plugin.rpc.num.handlers does not exist\n",
      "24/06/29 12:10:35 WARN HiveConf: HiveConf of name hive.server2.wm.allow.any.pool.via.jdbc does not exist\n",
      "24/06/29 12:10:35 WARN HiveConf: HiveConf of name hive.vectorized.groupby.complex.types.enabled does not exist\n",
      "24/06/29 12:10:35 WARN HiveConf: HiveConf of name hive.avro.timestamp.skip.conversion does not exist\n",
      "24/06/29 12:10:35 WARN HiveConf: HiveConf of name hive.query.results.cache.nontransactional.tables.enabled does not exist\n",
      "24/06/29 12:10:35 WARN HiveConf: HiveConf of name hive.stats.correlated.multi.key.joins does not exist\n",
      "24/06/29 12:10:35 WARN HiveConf: HiveConf of name hive.metastore.db.type does not exist\n",
      "24/06/29 12:10:35 WARN HiveConf: HiveConf of name hive.streaming.auto.flush.check.interval.size does not exist\n",
      "24/06/29 12:10:35 WARN HiveConf: HiveConf of name hive.zookeeper.connection.timeout does not exist\n",
      "24/06/29 12:10:35 WARN HiveConf: HiveConf of name hive.query.reexecution.strategies does not exist\n",
      "24/06/29 12:10:35 WARN HiveConf: HiveConf of name hive.server2.limit.connections.per.user.ipaddress does not exist\n",
      "24/06/29 12:10:35 WARN HiveConf: HiveConf of name hive.llap.mapjoin.memory.monitor.check.interval does not exist\n",
      "24/06/29 12:10:35 WARN HiveConf: HiveConf of name hive.optimize.shared.work does not exist\n",
      "24/06/29 12:10:35 WARN HiveConf: HiveConf of name hive.stats.estimate does not exist\n",
      "24/06/29 12:10:35 WARN HiveConf: HiveConf of name hive.llap.io.allocator.discard.method does not exist\n",
      "24/06/29 12:10:35 WARN HiveConf: HiveConf of name hive.tez.cartesian-product.enabled does not exist\n",
      "24/06/29 12:10:35 WARN HiveConf: HiveConf of name hive.notification.sequence.lock.max.retries does not exist\n",
      "24/06/29 12:10:35 WARN HiveConf: HiveConf of name hive.heap.memory.monitor.usage.threshold does not exist\n",
      "24/06/29 12:10:35 WARN HiveConf: HiveConf of name hive.privilege.synchronizer.interval does not exist\n",
      "24/06/29 12:10:35 WARN HiveConf: HiveConf of name hive.vectorized.adaptor.suppress.evaluate.exceptions does not exist\n",
      "24/06/29 12:10:35 WARN HiveConf: HiveConf of name hive.materializedview.rebuild.incremental does not exist\n",
      "24/06/29 12:10:35 WARN HiveConf: HiveConf of name hive.query.results.cache.max.entry.size does not exist\n",
      "24/06/29 12:10:35 WARN HiveConf: HiveConf of name hive.spark.stage.max.tasks does not exist\n",
      "24/06/29 12:10:35 WARN HiveConf: HiveConf of name hive.testing.short.logs does not exist\n",
      "24/06/29 12:10:35 WARN HiveConf: HiveConf of name hive.streaming.auto.flush.enabled does not exist\n",
      "24/06/29 12:10:35 WARN HiveConf: HiveConf of name hive.spark.explain.user does not exist\n",
      "24/06/29 12:10:35 WARN HiveConf: HiveConf of name hive.describe.partitionedtable.ignore.stats does not exist\n",
      "24/06/29 12:10:35 WARN HiveConf: HiveConf of name hive.server2.operation.log.cleanup.delay does not exist\n",
      "24/06/29 12:10:35 WARN HiveConf: HiveConf of name hive.repl.dump.metadata.only does not exist\n",
      "24/06/29 12:10:35 WARN HiveConf: HiveConf of name hive.optimize.countdistinct does not exist\n",
      "24/06/29 12:10:35 WARN HiveConf: HiveConf of name hive.auto.convert.join.shuffle.max.size does not exist\n",
      "24/06/29 12:10:35 WARN HiveConf: HiveConf of name hive.llap.plugin.acl does not exist\n",
      "24/06/29 12:10:35 WARN HiveConf: HiveConf of name hive.metastore.schema.info.class does not exist\n",
      "24/06/29 12:10:35 WARN HiveConf: HiveConf of name hive.server2.tez.queue.access.check does not exist\n",
      "24/06/29 12:10:35 WARN HiveConf: HiveConf of name hive.llap.external.splits.temp.table.storage.format does not exist\n",
      "24/06/29 12:10:35 WARN HiveConf: HiveConf of name hive.llap.io.row.wrapper.enabled does not exist\n",
      "24/06/29 12:10:35 WARN HiveConf: HiveConf of name hive.constraint.notnull.enforce does not exist\n",
      "24/06/29 12:10:35 WARN HiveConf: HiveConf of name hive.cli.print.escape.crlf does not exist\n",
      "24/06/29 12:10:35 WARN HiveConf: HiveConf of name hive.trigger.validation.interval does not exist\n",
      "24/06/29 12:10:35 WARN HiveConf: HiveConf of name hive.server2.webui.cors.allowed.origins does not exist\n",
      "24/06/29 12:10:35 WARN HiveConf: HiveConf of name hive.server2.limit.connections.per.ipaddress does not exist\n",
      "24/06/29 12:10:35 WARN HiveConf: HiveConf of name hive.llap.external.splits.order.by.force.single.split does not exist\n",
      "24/06/29 12:10:35 WARN HiveConf: HiveConf of name hive.metastore.client.cache.stats.enabled does not exist\n",
      "24/06/29 12:10:35 WARN HiveConf: HiveConf of name hive.notification.event.poll.interval does not exist\n",
      "24/06/29 12:10:35 WARN HiveConf: HiveConf of name hive.transactional.concatenate.noblock does not exist\n",
      "24/06/29 12:10:35 WARN HiveConf: HiveConf of name hive.materializedview.rewriting.strategy does not exist\n",
      "24/06/29 12:10:35 WARN HiveConf: HiveConf of name hive.vectorized.if.expr.mode does not exist\n",
      "24/06/29 12:10:35 WARN HiveConf: HiveConf of name hive.exim.test.mode does not exist\n",
      "24/06/29 12:10:35 WARN HiveConf: HiveConf of name hive.query.results.cache.directory does not exist\n",
      "24/06/29 12:10:35 WARN HiveConf: HiveConf of name hive.query.results.cache.wait.for.pending.results does not exist\n",
      "24/06/29 12:10:35 WARN HiveConf: HiveConf of name hive.remove.orderby.in.subquery does not exist\n",
      "24/06/29 12:10:35 WARN HiveConf: HiveConf of name hive.tez.bmj.use.subcache does not exist\n",
      "24/06/29 12:10:35 WARN HiveConf: HiveConf of name hive.llap.io.vrb.queue.limit.min does not exist\n",
      "24/06/29 12:10:35 WARN HiveConf: HiveConf of name hive.server2.wm.pool.metrics does not exist\n",
      "24/06/29 12:10:35 WARN HiveConf: HiveConf of name hive.repl.add.raw.reserved.namespace does not exist\n",
      "24/06/29 12:10:35 WARN HiveConf: HiveConf of name hive.resource.use.hdfs.location does not exist\n",
      "24/06/29 12:10:35 WARN HiveConf: HiveConf of name hive.stats.num.nulls.estimate.percent does not exist\n",
      "24/06/29 12:10:35 WARN HiveConf: HiveConf of name hive.llap.io.acid does not exist\n",
      "24/06/29 12:10:35 WARN HiveConf: HiveConf of name hive.llap.zk.sm.session.timeout does not exist\n",
      "24/06/29 12:10:35 WARN HiveConf: HiveConf of name hive.vectorized.ptf.max.memory.buffering.batch.count does not exist\n",
      "24/06/29 12:10:35 WARN HiveConf: HiveConf of name hive.llap.task.scheduler.am.registry does not exist\n",
      "24/06/29 12:10:35 WARN HiveConf: HiveConf of name hive.druid.overlord.address.default does not exist\n",
      "24/06/29 12:10:35 WARN HiveConf: HiveConf of name hive.optimize.remove.sq_count_check does not exist\n",
      "24/06/29 12:10:35 WARN HiveConf: HiveConf of name hive.server2.webui.enable.cors does not exist\n",
      "24/06/29 12:10:35 WARN HiveConf: HiveConf of name hive.vectorized.row.serde.inputformat.excludes does not exist\n",
      "24/06/29 12:10:35 WARN HiveConf: HiveConf of name hive.query.reexecution.stats.cache.size does not exist\n",
      "24/06/29 12:10:35 WARN HiveConf: HiveConf of name hive.combine.equivalent.work.optimization does not exist\n",
      "24/06/29 12:10:35 WARN HiveConf: HiveConf of name hive.lock.query.string.max.length does not exist\n",
      "24/06/29 12:10:35 WARN HiveConf: HiveConf of name hive.llap.io.track.cache.usage does not exist\n",
      "24/06/29 12:10:35 WARN HiveConf: HiveConf of name hive.use.orc.codec.pool does not exist\n",
      "24/06/29 12:10:35 WARN HiveConf: HiveConf of name hive.query.results.cache.max.size does not exist\n",
      "24/06/29 12:10:35 WARN HiveConf: HiveConf of name hive.repl.bootstrap.dump.open.txn.timeout does not exist\n"
     ]
    },
    {
     "name": "stderr",
     "output_type": "stream",
     "text": [
      "24/06/29 12:10:38 WARN HiveConf: HiveConf of name hive.metastore.wm.default.pool.size does not exist\n",
      "24/06/29 12:10:38 WARN HiveConf: HiveConf of name hive.llap.task.scheduler.preempt.independent does not exist\n",
      "24/06/29 12:10:38 WARN HiveConf: HiveConf of name hive.llap.output.format.arrow does not exist\n",
      "24/06/29 12:10:38 WARN HiveConf: HiveConf of name hive.tez.llap.min.reducer.per.executor does not exist\n",
      "24/06/29 12:10:38 WARN HiveConf: HiveConf of name hive.arrow.root.allocator.limit does not exist\n",
      "24/06/29 12:10:38 WARN HiveConf: HiveConf of name hive.vectorized.use.checked.expressions does not exist\n",
      "24/06/29 12:10:38 WARN HiveConf: HiveConf of name hive.tez.dynamic.semijoin.reduction.for.mapjoin does not exist\n",
      "24/06/29 12:10:38 WARN HiveConf: HiveConf of name hive.vectorized.complex.types.enabled does not exist\n",
      "24/06/29 12:10:38 WARN HiveConf: HiveConf of name hive.server2.wm.worker.threads does not exist\n",
      "24/06/29 12:10:38 WARN HiveConf: HiveConf of name hive.repl.partitions.dump.parallelism does not exist\n",
      "24/06/29 12:10:38 WARN HiveConf: HiveConf of name hive.metastore.uri.selection does not exist\n",
      "24/06/29 12:10:38 WARN HiveConf: HiveConf of name hive.strict.checks.no.partition.filter does not exist\n",
      "24/06/29 12:10:38 WARN HiveConf: HiveConf of name hive.tez.dynamic.semijoin.reduction.for.dpp.factor does not exist\n",
      "24/06/29 12:10:38 WARN HiveConf: HiveConf of name hive.stats.filter.in.min.ratio does not exist\n",
      "24/06/29 12:10:38 WARN HiveConf: HiveConf of name hive.metastore.client.cache.initial.capacity does not exist\n",
      "24/06/29 12:10:38 WARN HiveConf: HiveConf of name hive.stats.ndv.estimate.percent does not exist\n",
      "24/06/29 12:10:38 WARN HiveConf: HiveConf of name hive.server2.webui.cors.allowed.methods does not exist\n",
      "24/06/29 12:10:38 WARN HiveConf: HiveConf of name hive.optimize.joinreducededuplication does not exist\n",
      "24/06/29 12:10:38 WARN HiveConf: HiveConf of name hive.metastore.client.cache.enabled does not exist\n",
      "24/06/29 12:10:38 WARN HiveConf: HiveConf of name hive.stats.fetch.bitvector does not exist\n",
      "24/06/29 12:10:38 WARN HiveConf: HiveConf of name hive.disable.unsafe.external.table.operations does not exist\n",
      "24/06/29 12:10:38 WARN HiveConf: HiveConf of name hive.materializedview.rewriting.incremental does not exist\n",
      "24/06/29 12:10:38 WARN HiveConf: HiveConf of name hive.server2.materializedviews.registry.impl does not exist\n",
      "24/06/29 12:10:38 WARN HiveConf: HiveConf of name hive.metastore.event.db.notification.api.auth does not exist\n",
      "24/06/29 12:10:38 WARN HiveConf: HiveConf of name hive.exec.orc.delta.streaming.optimizations.enabled does not exist\n",
      "24/06/29 12:10:38 WARN HiveConf: HiveConf of name hive.stats.ndv.algo does not exist\n",
      "24/06/29 12:10:38 WARN HiveConf: HiveConf of name hive.spark.job.max.tasks does not exist\n",
      "24/06/29 12:10:38 WARN HiveConf: HiveConf of name hive.msck.repair.batch.max.retries does not exist\n",
      "24/06/29 12:10:38 WARN HiveConf: HiveConf of name hive.prewarm.spark.timeout does not exist\n",
      "24/06/29 12:10:38 WARN HiveConf: HiveConf of name hive.optimize.update.table.properties.from.serde.list does not exist\n",
      "24/06/29 12:10:38 WARN HiveConf: HiveConf of name hive.llap.plugin.client.num.threads does not exist\n",
      "24/06/29 12:10:38 WARN HiveConf: HiveConf of name hive.test.bucketcodec.version does not exist\n",
      "24/06/29 12:10:38 WARN HiveConf: HiveConf of name hive.query.reexecution.enabled does not exist\n",
      "24/06/29 12:10:38 WARN HiveConf: HiveConf of name hive.materializedview.rewriting.time.window does not exist\n",
      "24/06/29 12:10:38 WARN HiveConf: HiveConf of name hive.query.reexecution.stats.cache.batch.size does not exist\n",
      "24/06/29 12:10:38 WARN HiveConf: HiveConf of name hive.server2.webui.cors.allowed.headers does not exist\n",
      "24/06/29 12:10:38 WARN HiveConf: HiveConf of name hive.join.inner.residual does not exist\n",
      "24/06/29 12:10:38 WARN HiveConf: HiveConf of name hive.server2.active.passive.ha.enable does not exist\n",
      "24/06/29 12:10:38 WARN HiveConf: HiveConf of name hive.llap.io.trace.always.dump does not exist\n",
      "24/06/29 12:10:38 WARN HiveConf: HiveConf of name hive.query.reexecution.stats.persist.scope does not exist\n",
      "24/06/29 12:10:38 WARN HiveConf: HiveConf of name hive.mm.allow.originals does not exist\n",
      "24/06/29 12:10:38 WARN HiveConf: HiveConf of name hive.compactor.compact.insert.only does not exist\n",
      "24/06/29 12:10:38 WARN HiveConf: HiveConf of name hive.txn.xlock.iow does not exist\n",
      "24/06/29 12:10:38 WARN HiveConf: HiveConf of name hive.spark.rsc.conf.list does not exist\n",
      "24/06/29 12:10:38 WARN HiveConf: HiveConf of name hive.stats.jdbc.timeout does not exist\n",
      "24/06/29 12:10:38 WARN HiveConf: HiveConf of name hive.llap.cache.defaultfs.only.native.fileid does not exist\n",
      "24/06/29 12:10:38 WARN HiveConf: HiveConf of name hive.spark.optimize.shuffle.serde does not exist\n",
      "24/06/29 12:10:38 WARN HiveConf: HiveConf of name hive.testing.remove.logs does not exist\n",
      "24/06/29 12:10:38 WARN HiveConf: HiveConf of name hive.distcp.privileged.doAs does not exist\n",
      "24/06/29 12:10:38 WARN HiveConf: HiveConf of name hive.strict.checks.orderby.no.limit does not exist\n",
      "24/06/29 12:10:38 WARN HiveConf: HiveConf of name hive.metastore.client.cache.expiry.time does not exist\n",
      "24/06/29 12:10:38 WARN HiveConf: HiveConf of name hive.llap.io.allocator.defrag.headroom does not exist\n",
      "24/06/29 12:10:38 WARN HiveConf: HiveConf of name hive.notification.event.consumers does not exist\n",
      "24/06/29 12:10:38 WARN HiveConf: HiveConf of name hive.vectorized.input.format.supports.enabled does not exist\n",
      "24/06/29 12:10:38 WARN HiveConf: HiveConf of name hive.metastore.client.cache.max.capacity does not exist\n",
      "24/06/29 12:10:38 WARN HiveConf: HiveConf of name hive.repl.dumpdir.clean.freq does not exist\n",
      "24/06/29 12:10:38 WARN HiveConf: HiveConf of name hive.spark.use.ts.stats.for.mapjoin does not exist\n",
      "24/06/29 12:10:38 WARN HiveConf: HiveConf of name hive.repl.dump.include.acid.tables does not exist\n",
      "24/06/29 12:10:38 WARN HiveConf: HiveConf of name hive.server2.webui.use.pam does not exist\n",
      "24/06/29 12:10:38 WARN HiveConf: HiveConf of name hive.query.reexecution.max.count does not exist\n",
      "24/06/29 12:10:38 WARN HiveConf: HiveConf of name hive.llap.io.share.object.pools does not exist\n",
      "24/06/29 12:10:38 WARN HiveConf: HiveConf of name hive.optimize.update.table.properties.from.serde does not exist\n",
      "24/06/29 12:10:38 WARN HiveConf: HiveConf of name hive.service.metrics.codahale.reporter.classes does not exist\n",
      "24/06/29 12:10:38 WARN HiveConf: HiveConf of name hive.tez.session.events.print.summary does not exist\n",
      "24/06/29 12:10:38 WARN HiveConf: HiveConf of name hive.llap.io.vrb.queue.limit.base does not exist\n",
      "24/06/29 12:10:38 WARN HiveConf: HiveConf of name hive.mm.avoid.s3.globstatus does not exist\n",
      "24/06/29 12:10:38 WARN HiveConf: HiveConf of name hive.repl.replica.functions.root.dir does not exist\n",
      "24/06/29 12:10:38 WARN HiveConf: HiveConf of name hive.query.results.cache.max.entry.lifetime does not exist\n",
      "24/06/29 12:10:38 WARN HiveConf: HiveConf of name hive.server2.limit.connections.per.user does not exist\n",
      "24/06/29 12:10:38 WARN HiveConf: HiveConf of name hive.server2.thrift.http.compression.enabled does not exist\n",
      "24/06/29 12:10:38 WARN HiveConf: HiveConf of name hive.vectorized.execution.ptf.enabled does not exist\n",
      "24/06/29 12:10:38 WARN HiveConf: HiveConf of name hive.optimize.shared.work.extended does not exist\n",
      "24/06/29 12:10:38 WARN HiveConf: HiveConf of name hive.vectorized.row.identifier.enabled does not exist\n",
      "24/06/29 12:10:38 WARN HiveConf: HiveConf of name hive.query.reexecution.always.collect.operator.stats does not exist\n",
      "24/06/29 12:10:38 WARN HiveConf: HiveConf of name hive.repl.dumpdir.ttl does not exist\n",
      "24/06/29 12:10:38 WARN HiveConf: HiveConf of name hive.local.time.zone does not exist\n",
      "24/06/29 12:10:38 WARN HiveConf: HiveConf of name hive.server2.tez.wm.am.registry.timeout does not exist\n",
      "24/06/29 12:10:38 WARN HiveConf: HiveConf of name hive.server2.active.passive.ha.registry.namespace does not exist\n",
      "24/06/29 12:10:38 WARN HiveConf: HiveConf of name hive.create.as.insert.only does not exist\n",
      "24/06/29 12:10:38 WARN HiveConf: HiveConf of name hive.llap.mapjoin.memory.oversubscribe.factor does not exist\n",
      "24/06/29 12:10:38 WARN HiveConf: HiveConf of name hive.arrow.batch.size does not exist\n",
      "24/06/29 12:10:38 WARN HiveConf: HiveConf of name hive.notification.sequence.lock.retry.sleep.interval does not exist\n",
      "24/06/29 12:10:38 WARN HiveConf: HiveConf of name hive.repl.approx.max.load.tasks does not exist\n",
      "24/06/29 12:10:38 WARN HiveConf: HiveConf of name hive.query.results.cache.enabled does not exist\n",
      "24/06/29 12:10:38 WARN HiveConf: HiveConf of name hive.legacy.schema.for.all.serdes does not exist\n",
      "24/06/29 12:10:38 WARN HiveConf: HiveConf of name hive.tez.dag.status.check.interval does not exist\n",
      "24/06/29 12:10:38 WARN HiveConf: HiveConf of name hive.druid.bitmap.type does not exist\n",
      "24/06/29 12:10:38 WARN HiveConf: HiveConf of name hive.spark.dynamic.partition.pruning.map.join.only does not exist\n",
      "24/06/29 12:10:38 WARN HiveConf: HiveConf of name hive.llap.memory.oversubscription.max.executors.per.query does not exist\n",
      "24/06/29 12:10:38 WARN HiveConf: HiveConf of name hive.llap.io.trace.size does not exist\n",
      "24/06/29 12:10:38 WARN HiveConf: HiveConf of name hive.llap.plugin.rpc.num.handlers does not exist\n",
      "24/06/29 12:10:38 WARN HiveConf: HiveConf of name hive.server2.wm.allow.any.pool.via.jdbc does not exist\n",
      "24/06/29 12:10:38 WARN HiveConf: HiveConf of name hive.vectorized.groupby.complex.types.enabled does not exist\n",
      "24/06/29 12:10:38 WARN HiveConf: HiveConf of name hive.avro.timestamp.skip.conversion does not exist\n",
      "24/06/29 12:10:38 WARN HiveConf: HiveConf of name hive.query.results.cache.nontransactional.tables.enabled does not exist\n",
      "24/06/29 12:10:38 WARN HiveConf: HiveConf of name hive.stats.correlated.multi.key.joins does not exist\n",
      "24/06/29 12:10:38 WARN HiveConf: HiveConf of name hive.metastore.db.type does not exist\n",
      "24/06/29 12:10:38 WARN HiveConf: HiveConf of name hive.streaming.auto.flush.check.interval.size does not exist\n",
      "24/06/29 12:10:38 WARN HiveConf: HiveConf of name hive.zookeeper.connection.timeout does not exist\n",
      "24/06/29 12:10:38 WARN HiveConf: HiveConf of name hive.query.reexecution.strategies does not exist\n",
      "24/06/29 12:10:38 WARN HiveConf: HiveConf of name hive.server2.limit.connections.per.user.ipaddress does not exist\n",
      "24/06/29 12:10:38 WARN HiveConf: HiveConf of name hive.llap.mapjoin.memory.monitor.check.interval does not exist\n",
      "24/06/29 12:10:38 WARN HiveConf: HiveConf of name hive.optimize.shared.work does not exist\n",
      "24/06/29 12:10:38 WARN HiveConf: HiveConf of name hive.stats.estimate does not exist\n",
      "24/06/29 12:10:38 WARN HiveConf: HiveConf of name hive.llap.io.allocator.discard.method does not exist\n",
      "24/06/29 12:10:38 WARN HiveConf: HiveConf of name hive.tez.cartesian-product.enabled does not exist\n",
      "24/06/29 12:10:38 WARN HiveConf: HiveConf of name hive.notification.sequence.lock.max.retries does not exist\n",
      "24/06/29 12:10:38 WARN HiveConf: HiveConf of name hive.heap.memory.monitor.usage.threshold does not exist\n",
      "24/06/29 12:10:38 WARN HiveConf: HiveConf of name hive.privilege.synchronizer.interval does not exist\n",
      "24/06/29 12:10:38 WARN HiveConf: HiveConf of name hive.vectorized.adaptor.suppress.evaluate.exceptions does not exist\n",
      "24/06/29 12:10:38 WARN HiveConf: HiveConf of name hive.materializedview.rebuild.incremental does not exist\n",
      "24/06/29 12:10:38 WARN HiveConf: HiveConf of name hive.query.results.cache.max.entry.size does not exist\n",
      "24/06/29 12:10:38 WARN HiveConf: HiveConf of name hive.spark.stage.max.tasks does not exist\n",
      "24/06/29 12:10:38 WARN HiveConf: HiveConf of name hive.testing.short.logs does not exist\n",
      "24/06/29 12:10:38 WARN HiveConf: HiveConf of name hive.streaming.auto.flush.enabled does not exist\n",
      "24/06/29 12:10:38 WARN HiveConf: HiveConf of name hive.spark.explain.user does not exist\n",
      "24/06/29 12:10:38 WARN HiveConf: HiveConf of name hive.describe.partitionedtable.ignore.stats does not exist\n",
      "24/06/29 12:10:38 WARN HiveConf: HiveConf of name hive.server2.operation.log.cleanup.delay does not exist\n",
      "24/06/29 12:10:38 WARN HiveConf: HiveConf of name hive.repl.dump.metadata.only does not exist\n",
      "24/06/29 12:10:38 WARN HiveConf: HiveConf of name hive.optimize.countdistinct does not exist\n",
      "24/06/29 12:10:38 WARN HiveConf: HiveConf of name hive.auto.convert.join.shuffle.max.size does not exist\n",
      "24/06/29 12:10:38 WARN HiveConf: HiveConf of name hive.llap.plugin.acl does not exist\n",
      "24/06/29 12:10:38 WARN HiveConf: HiveConf of name hive.metastore.schema.info.class does not exist\n",
      "24/06/29 12:10:38 WARN HiveConf: HiveConf of name hive.server2.tez.queue.access.check does not exist\n",
      "24/06/29 12:10:38 WARN HiveConf: HiveConf of name hive.llap.external.splits.temp.table.storage.format does not exist\n",
      "24/06/29 12:10:38 WARN HiveConf: HiveConf of name hive.llap.io.row.wrapper.enabled does not exist\n",
      "24/06/29 12:10:38 WARN HiveConf: HiveConf of name hive.constraint.notnull.enforce does not exist\n",
      "24/06/29 12:10:38 WARN HiveConf: HiveConf of name hive.cli.print.escape.crlf does not exist\n",
      "24/06/29 12:10:38 WARN HiveConf: HiveConf of name hive.trigger.validation.interval does not exist\n",
      "24/06/29 12:10:38 WARN HiveConf: HiveConf of name hive.server2.webui.cors.allowed.origins does not exist\n",
      "24/06/29 12:10:38 WARN HiveConf: HiveConf of name hive.server2.limit.connections.per.ipaddress does not exist\n",
      "24/06/29 12:10:38 WARN HiveConf: HiveConf of name hive.llap.external.splits.order.by.force.single.split does not exist\n",
      "24/06/29 12:10:38 WARN HiveConf: HiveConf of name hive.metastore.client.cache.stats.enabled does not exist\n",
      "24/06/29 12:10:38 WARN HiveConf: HiveConf of name hive.notification.event.poll.interval does not exist\n",
      "24/06/29 12:10:38 WARN HiveConf: HiveConf of name hive.transactional.concatenate.noblock does not exist\n",
      "24/06/29 12:10:38 WARN HiveConf: HiveConf of name hive.materializedview.rewriting.strategy does not exist\n",
      "24/06/29 12:10:38 WARN HiveConf: HiveConf of name hive.vectorized.if.expr.mode does not exist\n",
      "24/06/29 12:10:38 WARN HiveConf: HiveConf of name hive.exim.test.mode does not exist\n",
      "24/06/29 12:10:38 WARN HiveConf: HiveConf of name hive.query.results.cache.directory does not exist\n",
      "24/06/29 12:10:38 WARN HiveConf: HiveConf of name hive.query.results.cache.wait.for.pending.results does not exist\n",
      "24/06/29 12:10:38 WARN HiveConf: HiveConf of name hive.remove.orderby.in.subquery does not exist\n",
      "24/06/29 12:10:38 WARN HiveConf: HiveConf of name hive.tez.bmj.use.subcache does not exist\n",
      "24/06/29 12:10:38 WARN HiveConf: HiveConf of name hive.llap.io.vrb.queue.limit.min does not exist\n",
      "24/06/29 12:10:38 WARN HiveConf: HiveConf of name hive.server2.wm.pool.metrics does not exist\n",
      "24/06/29 12:10:38 WARN HiveConf: HiveConf of name hive.repl.add.raw.reserved.namespace does not exist\n",
      "24/06/29 12:10:38 WARN HiveConf: HiveConf of name hive.resource.use.hdfs.location does not exist\n",
      "24/06/29 12:10:38 WARN HiveConf: HiveConf of name hive.stats.num.nulls.estimate.percent does not exist\n",
      "24/06/29 12:10:38 WARN HiveConf: HiveConf of name hive.llap.io.acid does not exist\n",
      "24/06/29 12:10:38 WARN HiveConf: HiveConf of name hive.llap.zk.sm.session.timeout does not exist\n",
      "24/06/29 12:10:38 WARN HiveConf: HiveConf of name hive.vectorized.ptf.max.memory.buffering.batch.count does not exist\n",
      "24/06/29 12:10:38 WARN HiveConf: HiveConf of name hive.llap.task.scheduler.am.registry does not exist\n",
      "24/06/29 12:10:38 WARN HiveConf: HiveConf of name hive.druid.overlord.address.default does not exist\n",
      "24/06/29 12:10:38 WARN HiveConf: HiveConf of name hive.optimize.remove.sq_count_check does not exist\n",
      "24/06/29 12:10:38 WARN HiveConf: HiveConf of name hive.server2.webui.enable.cors does not exist\n",
      "24/06/29 12:10:38 WARN HiveConf: HiveConf of name hive.stats.retries.wait does not exist\n",
      "24/06/29 12:10:38 WARN HiveConf: HiveConf of name hive.vectorized.row.serde.inputformat.excludes does not exist\n",
      "24/06/29 12:10:38 WARN HiveConf: HiveConf of name hive.query.reexecution.stats.cache.size does not exist\n",
      "24/06/29 12:10:38 WARN HiveConf: HiveConf of name hive.combine.equivalent.work.optimization does not exist\n",
      "24/06/29 12:10:38 WARN HiveConf: HiveConf of name hive.lock.query.string.max.length does not exist\n",
      "24/06/29 12:10:38 WARN HiveConf: HiveConf of name hive.llap.io.track.cache.usage does not exist\n",
      "24/06/29 12:10:38 WARN HiveConf: HiveConf of name hive.use.orc.codec.pool does not exist\n",
      "24/06/29 12:10:38 WARN HiveConf: HiveConf of name hive.query.results.cache.max.size does not exist\n",
      "24/06/29 12:10:38 WARN HiveConf: HiveConf of name hive.repl.bootstrap.dump.open.txn.timeout does not exist\n"
     ]
    },
    {
     "name": "stderr",
     "output_type": "stream",
     "text": [
      "Sat Jun 29 12:10:39 ICT 2024 Thread[Thread-4,5,main] java.io.FileNotFoundException: derby.log (Permission denied)\n",
      "24/06/29 12:10:40 WARN DriverDataSource: Registered driver with driverClassName=org.apache.derby.jdbc.EmbeddedDriver was not found, trying direct instantiation.\n"
     ]
    },
    {
     "name": "stderr",
     "output_type": "stream",
     "text": [
      "----------------------------------------------------------------\n",
      "Sat Jun 29 12:10:40 ICT 2024:\n",
      "Booting Derby version The Apache Software Foundation - Apache Derby - 10.14.2.0 - (1828579): instance a816c00e-0190-6267-1031-000012132550 \n",
      "on database directory /home/thanhphat/BigData/apache-hive-3.1.3-bin/bin/metastore_db with class loader sun.misc.Launcher$AppClassLoader@64a294a6 \n",
      "Loaded from file:/home/thanhphat/BigData/spark-3.5.0-bin-hadoop3/jars/derby-10.14.2.0.jar\n",
      "java.vendor=Private Build\n",
      "java.runtime.version=1.8.0_412-8u412-ga-1~22.04.1-b08\n",
      "user.dir=/\n",
      "os.name=Linux\n",
      "os.arch=amd64\n",
      "os.version=6.5.0-35-generic\n",
      "derby.system.home=null\n"
     ]
    },
    {
     "name": "stderr",
     "output_type": "stream",
     "text": [
      "Database Class Loader started - derby.database.classpath=''\n"
     ]
    },
    {
     "name": "stderr",
     "output_type": "stream",
     "text": [
      "24/06/29 12:10:43 WARN DriverDataSource: Registered driver with driverClassName=org.apache.derby.jdbc.EmbeddedDriver was not found, trying direct instantiation.\n"
     ]
    },
    {
     "name": "stderr",
     "output_type": "stream",
     "text": [
      "24/06/29 12:10:44 WARN HiveConf: HiveConf of name hive.metastore.wm.default.pool.size does not exist\n",
      "24/06/29 12:10:44 WARN HiveConf: HiveConf of name hive.llap.task.scheduler.preempt.independent does not exist\n",
      "24/06/29 12:10:44 WARN HiveConf: HiveConf of name hive.llap.output.format.arrow does not exist\n",
      "24/06/29 12:10:44 WARN HiveConf: HiveConf of name hive.tez.llap.min.reducer.per.executor does not exist\n",
      "24/06/29 12:10:44 WARN HiveConf: HiveConf of name hive.arrow.root.allocator.limit does not exist\n",
      "24/06/29 12:10:44 WARN HiveConf: HiveConf of name hive.vectorized.use.checked.expressions does not exist\n",
      "24/06/29 12:10:44 WARN HiveConf: HiveConf of name hive.tez.dynamic.semijoin.reduction.for.mapjoin does not exist\n",
      "24/06/29 12:10:44 WARN HiveConf: HiveConf of name hive.vectorized.complex.types.enabled does not exist\n",
      "24/06/29 12:10:44 WARN HiveConf: HiveConf of name hive.server2.wm.worker.threads does not exist\n",
      "24/06/29 12:10:44 WARN HiveConf: HiveConf of name hive.repl.partitions.dump.parallelism does not exist\n",
      "24/06/29 12:10:44 WARN HiveConf: HiveConf of name hive.metastore.uri.selection does not exist\n",
      "24/06/29 12:10:44 WARN HiveConf: HiveConf of name hive.strict.checks.no.partition.filter does not exist\n",
      "24/06/29 12:10:44 WARN HiveConf: HiveConf of name hive.tez.dynamic.semijoin.reduction.for.dpp.factor does not exist\n",
      "24/06/29 12:10:44 WARN HiveConf: HiveConf of name hive.stats.filter.in.min.ratio does not exist\n",
      "24/06/29 12:10:44 WARN HiveConf: HiveConf of name hive.metastore.client.cache.initial.capacity does not exist\n",
      "24/06/29 12:10:44 WARN HiveConf: HiveConf of name hive.stats.ndv.estimate.percent does not exist\n",
      "24/06/29 12:10:44 WARN HiveConf: HiveConf of name hive.server2.webui.cors.allowed.methods does not exist\n",
      "24/06/29 12:10:44 WARN HiveConf: HiveConf of name hive.optimize.joinreducededuplication does not exist\n",
      "24/06/29 12:10:44 WARN HiveConf: HiveConf of name hive.metastore.client.cache.enabled does not exist\n",
      "24/06/29 12:10:44 WARN HiveConf: HiveConf of name hive.stats.fetch.bitvector does not exist\n",
      "24/06/29 12:10:44 WARN HiveConf: HiveConf of name hive.disable.unsafe.external.table.operations does not exist\n",
      "24/06/29 12:10:44 WARN HiveConf: HiveConf of name hive.materializedview.rewriting.incremental does not exist\n",
      "24/06/29 12:10:44 WARN HiveConf: HiveConf of name hive.server2.materializedviews.registry.impl does not exist\n",
      "24/06/29 12:10:44 WARN HiveConf: HiveConf of name hive.metastore.event.db.notification.api.auth does not exist\n",
      "24/06/29 12:10:44 WARN HiveConf: HiveConf of name hive.exec.orc.delta.streaming.optimizations.enabled does not exist\n",
      "24/06/29 12:10:44 WARN HiveConf: HiveConf of name hive.stats.ndv.algo does not exist\n",
      "24/06/29 12:10:44 WARN HiveConf: HiveConf of name hive.spark.job.max.tasks does not exist\n",
      "24/06/29 12:10:44 WARN HiveConf: HiveConf of name hive.msck.repair.batch.max.retries does not exist\n",
      "24/06/29 12:10:44 WARN HiveConf: HiveConf of name hive.prewarm.spark.timeout does not exist\n",
      "24/06/29 12:10:44 WARN HiveConf: HiveConf of name hive.optimize.update.table.properties.from.serde.list does not exist\n",
      "24/06/29 12:10:44 WARN HiveConf: HiveConf of name hive.llap.plugin.client.num.threads does not exist\n",
      "24/06/29 12:10:44 WARN HiveConf: HiveConf of name hive.test.bucketcodec.version does not exist\n",
      "24/06/29 12:10:44 WARN HiveConf: HiveConf of name hive.query.reexecution.enabled does not exist\n",
      "24/06/29 12:10:44 WARN HiveConf: HiveConf of name hive.materializedview.rewriting.time.window does not exist\n",
      "24/06/29 12:10:44 WARN HiveConf: HiveConf of name hive.query.reexecution.stats.cache.batch.size does not exist\n",
      "24/06/29 12:10:44 WARN HiveConf: HiveConf of name hive.server2.webui.cors.allowed.headers does not exist\n",
      "24/06/29 12:10:44 WARN HiveConf: HiveConf of name hive.join.inner.residual does not exist\n",
      "24/06/29 12:10:44 WARN HiveConf: HiveConf of name hive.server2.active.passive.ha.enable does not exist\n",
      "24/06/29 12:10:44 WARN HiveConf: HiveConf of name hive.llap.io.trace.always.dump does not exist\n",
      "24/06/29 12:10:44 WARN HiveConf: HiveConf of name hive.query.reexecution.stats.persist.scope does not exist\n",
      "24/06/29 12:10:44 WARN HiveConf: HiveConf of name hive.mm.allow.originals does not exist\n",
      "24/06/29 12:10:44 WARN HiveConf: HiveConf of name hive.compactor.compact.insert.only does not exist\n",
      "24/06/29 12:10:44 WARN HiveConf: HiveConf of name hive.txn.xlock.iow does not exist\n",
      "24/06/29 12:10:44 WARN HiveConf: HiveConf of name hive.spark.rsc.conf.list does not exist\n",
      "24/06/29 12:10:44 WARN HiveConf: HiveConf of name hive.llap.cache.defaultfs.only.native.fileid does not exist\n",
      "24/06/29 12:10:44 WARN HiveConf: HiveConf of name hive.spark.optimize.shuffle.serde does not exist\n",
      "24/06/29 12:10:44 WARN HiveConf: HiveConf of name hive.testing.remove.logs does not exist\n",
      "24/06/29 12:10:44 WARN HiveConf: HiveConf of name hive.distcp.privileged.doAs does not exist\n",
      "24/06/29 12:10:44 WARN HiveConf: HiveConf of name hive.strict.checks.orderby.no.limit does not exist\n",
      "24/06/29 12:10:44 WARN HiveConf: HiveConf of name hive.metastore.client.cache.expiry.time does not exist\n",
      "24/06/29 12:10:44 WARN HiveConf: HiveConf of name hive.llap.io.allocator.defrag.headroom does not exist\n",
      "24/06/29 12:10:44 WARN HiveConf: HiveConf of name hive.notification.event.consumers does not exist\n",
      "24/06/29 12:10:44 WARN HiveConf: HiveConf of name hive.vectorized.input.format.supports.enabled does not exist\n",
      "24/06/29 12:10:44 WARN HiveConf: HiveConf of name hive.metastore.client.cache.max.capacity does not exist\n",
      "24/06/29 12:10:44 WARN HiveConf: HiveConf of name hive.repl.dumpdir.clean.freq does not exist\n",
      "24/06/29 12:10:44 WARN HiveConf: HiveConf of name hive.spark.use.ts.stats.for.mapjoin does not exist\n",
      "24/06/29 12:10:44 WARN HiveConf: HiveConf of name hive.repl.dump.include.acid.tables does not exist\n",
      "24/06/29 12:10:44 WARN HiveConf: HiveConf of name hive.server2.webui.use.pam does not exist\n",
      "24/06/29 12:10:44 WARN HiveConf: HiveConf of name hive.query.reexecution.max.count does not exist\n",
      "24/06/29 12:10:44 WARN HiveConf: HiveConf of name hive.llap.io.share.object.pools does not exist\n",
      "24/06/29 12:10:44 WARN HiveConf: HiveConf of name hive.optimize.update.table.properties.from.serde does not exist\n",
      "24/06/29 12:10:44 WARN HiveConf: HiveConf of name hive.service.metrics.codahale.reporter.classes does not exist\n",
      "24/06/29 12:10:44 WARN HiveConf: HiveConf of name hive.tez.session.events.print.summary does not exist\n",
      "24/06/29 12:10:44 WARN HiveConf: HiveConf of name hive.llap.io.vrb.queue.limit.base does not exist\n",
      "24/06/29 12:10:44 WARN HiveConf: HiveConf of name hive.mm.avoid.s3.globstatus does not exist\n",
      "24/06/29 12:10:44 WARN HiveConf: HiveConf of name hive.repl.replica.functions.root.dir does not exist\n",
      "24/06/29 12:10:44 WARN HiveConf: HiveConf of name hive.query.results.cache.max.entry.lifetime does not exist\n",
      "24/06/29 12:10:44 WARN HiveConf: HiveConf of name hive.server2.limit.connections.per.user does not exist\n",
      "24/06/29 12:10:44 WARN HiveConf: HiveConf of name hive.server2.thrift.http.compression.enabled does not exist\n",
      "24/06/29 12:10:44 WARN HiveConf: HiveConf of name hive.vectorized.execution.ptf.enabled does not exist\n",
      "24/06/29 12:10:44 WARN HiveConf: HiveConf of name hive.optimize.shared.work.extended does not exist\n",
      "24/06/29 12:10:44 WARN HiveConf: HiveConf of name hive.vectorized.row.identifier.enabled does not exist\n",
      "24/06/29 12:10:44 WARN HiveConf: HiveConf of name hive.query.reexecution.always.collect.operator.stats does not exist\n",
      "24/06/29 12:10:44 WARN HiveConf: HiveConf of name hive.repl.dumpdir.ttl does not exist\n",
      "24/06/29 12:10:44 WARN HiveConf: HiveConf of name hive.local.time.zone does not exist\n",
      "24/06/29 12:10:44 WARN HiveConf: HiveConf of name hive.server2.tez.wm.am.registry.timeout does not exist\n",
      "24/06/29 12:10:44 WARN HiveConf: HiveConf of name hive.server2.active.passive.ha.registry.namespace does not exist\n",
      "24/06/29 12:10:44 WARN HiveConf: HiveConf of name hive.create.as.insert.only does not exist\n",
      "24/06/29 12:10:44 WARN HiveConf: HiveConf of name hive.llap.mapjoin.memory.oversubscribe.factor does not exist\n",
      "24/06/29 12:10:44 WARN HiveConf: HiveConf of name hive.arrow.batch.size does not exist\n",
      "24/06/29 12:10:44 WARN HiveConf: HiveConf of name hive.notification.sequence.lock.retry.sleep.interval does not exist\n",
      "24/06/29 12:10:44 WARN HiveConf: HiveConf of name hive.repl.approx.max.load.tasks does not exist\n",
      "24/06/29 12:10:44 WARN HiveConf: HiveConf of name hive.query.results.cache.enabled does not exist\n",
      "24/06/29 12:10:44 WARN HiveConf: HiveConf of name hive.legacy.schema.for.all.serdes does not exist\n",
      "24/06/29 12:10:44 WARN HiveConf: HiveConf of name hive.tez.dag.status.check.interval does not exist\n",
      "24/06/29 12:10:44 WARN HiveConf: HiveConf of name hive.druid.bitmap.type does not exist\n",
      "24/06/29 12:10:44 WARN HiveConf: HiveConf of name hive.spark.dynamic.partition.pruning.map.join.only does not exist\n",
      "24/06/29 12:10:44 WARN HiveConf: HiveConf of name hive.llap.memory.oversubscription.max.executors.per.query does not exist\n",
      "24/06/29 12:10:44 WARN HiveConf: HiveConf of name hive.llap.io.trace.size does not exist\n",
      "24/06/29 12:10:44 WARN HiveConf: HiveConf of name hive.llap.plugin.rpc.num.handlers does not exist\n",
      "24/06/29 12:10:44 WARN HiveConf: HiveConf of name hive.server2.wm.allow.any.pool.via.jdbc does not exist\n",
      "24/06/29 12:10:44 WARN HiveConf: HiveConf of name hive.vectorized.groupby.complex.types.enabled does not exist\n",
      "24/06/29 12:10:44 WARN HiveConf: HiveConf of name hive.avro.timestamp.skip.conversion does not exist\n",
      "24/06/29 12:10:44 WARN HiveConf: HiveConf of name hive.query.results.cache.nontransactional.tables.enabled does not exist\n",
      "24/06/29 12:10:44 WARN HiveConf: HiveConf of name hive.stats.correlated.multi.key.joins does not exist\n",
      "24/06/29 12:10:44 WARN HiveConf: HiveConf of name hive.metastore.db.type does not exist\n",
      "24/06/29 12:10:44 WARN HiveConf: HiveConf of name hive.streaming.auto.flush.check.interval.size does not exist\n",
      "24/06/29 12:10:44 WARN HiveConf: HiveConf of name hive.zookeeper.connection.timeout does not exist\n",
      "24/06/29 12:10:44 WARN HiveConf: HiveConf of name hive.query.reexecution.strategies does not exist\n",
      "24/06/29 12:10:44 WARN HiveConf: HiveConf of name hive.server2.limit.connections.per.user.ipaddress does not exist\n",
      "24/06/29 12:10:44 WARN HiveConf: HiveConf of name hive.llap.mapjoin.memory.monitor.check.interval does not exist\n",
      "24/06/29 12:10:44 WARN HiveConf: HiveConf of name hive.optimize.shared.work does not exist\n",
      "24/06/29 12:10:44 WARN HiveConf: HiveConf of name hive.stats.estimate does not exist\n",
      "24/06/29 12:10:44 WARN HiveConf: HiveConf of name hive.llap.io.allocator.discard.method does not exist\n",
      "24/06/29 12:10:44 WARN HiveConf: HiveConf of name hive.tez.cartesian-product.enabled does not exist\n",
      "24/06/29 12:10:44 WARN HiveConf: HiveConf of name hive.notification.sequence.lock.max.retries does not exist\n",
      "24/06/29 12:10:44 WARN HiveConf: HiveConf of name hive.heap.memory.monitor.usage.threshold does not exist\n",
      "24/06/29 12:10:44 WARN HiveConf: HiveConf of name hive.privilege.synchronizer.interval does not exist\n",
      "24/06/29 12:10:44 WARN HiveConf: HiveConf of name hive.vectorized.adaptor.suppress.evaluate.exceptions does not exist\n",
      "24/06/29 12:10:44 WARN HiveConf: HiveConf of name hive.materializedview.rebuild.incremental does not exist\n",
      "24/06/29 12:10:44 WARN HiveConf: HiveConf of name hive.query.results.cache.max.entry.size does not exist\n",
      "24/06/29 12:10:44 WARN HiveConf: HiveConf of name hive.spark.stage.max.tasks does not exist\n",
      "24/06/29 12:10:44 WARN HiveConf: HiveConf of name hive.testing.short.logs does not exist\n",
      "24/06/29 12:10:44 WARN HiveConf: HiveConf of name hive.streaming.auto.flush.enabled does not exist\n",
      "24/06/29 12:10:44 WARN HiveConf: HiveConf of name hive.spark.explain.user does not exist\n",
      "24/06/29 12:10:44 WARN HiveConf: HiveConf of name hive.describe.partitionedtable.ignore.stats does not exist\n",
      "24/06/29 12:10:44 WARN HiveConf: HiveConf of name hive.server2.operation.log.cleanup.delay does not exist\n",
      "24/06/29 12:10:44 WARN HiveConf: HiveConf of name hive.repl.dump.metadata.only does not exist\n",
      "24/06/29 12:10:44 WARN HiveConf: HiveConf of name hive.optimize.countdistinct does not exist\n",
      "24/06/29 12:10:44 WARN HiveConf: HiveConf of name hive.auto.convert.join.shuffle.max.size does not exist\n",
      "24/06/29 12:10:44 WARN HiveConf: HiveConf of name hive.llap.plugin.acl does not exist\n",
      "24/06/29 12:10:44 WARN HiveConf: HiveConf of name hive.metastore.schema.info.class does not exist\n",
      "24/06/29 12:10:44 WARN HiveConf: HiveConf of name hive.server2.tez.queue.access.check does not exist\n",
      "24/06/29 12:10:44 WARN HiveConf: HiveConf of name hive.llap.external.splits.temp.table.storage.format does not exist\n",
      "24/06/29 12:10:44 WARN HiveConf: HiveConf of name hive.llap.io.row.wrapper.enabled does not exist\n",
      "24/06/29 12:10:44 WARN HiveConf: HiveConf of name hive.constraint.notnull.enforce does not exist\n",
      "24/06/29 12:10:44 WARN HiveConf: HiveConf of name hive.cli.print.escape.crlf does not exist\n",
      "24/06/29 12:10:44 WARN HiveConf: HiveConf of name hive.trigger.validation.interval does not exist\n",
      "24/06/29 12:10:44 WARN HiveConf: HiveConf of name hive.server2.webui.cors.allowed.origins does not exist\n",
      "24/06/29 12:10:44 WARN HiveConf: HiveConf of name hive.server2.limit.connections.per.ipaddress does not exist\n",
      "24/06/29 12:10:44 WARN HiveConf: HiveConf of name hive.llap.external.splits.order.by.force.single.split does not exist\n",
      "24/06/29 12:10:44 WARN HiveConf: HiveConf of name hive.metastore.client.cache.stats.enabled does not exist\n",
      "24/06/29 12:10:44 WARN HiveConf: HiveConf of name hive.notification.event.poll.interval does not exist\n",
      "24/06/29 12:10:44 WARN HiveConf: HiveConf of name hive.transactional.concatenate.noblock does not exist\n",
      "24/06/29 12:10:44 WARN HiveConf: HiveConf of name hive.materializedview.rewriting.strategy does not exist\n",
      "24/06/29 12:10:44 WARN HiveConf: HiveConf of name hive.vectorized.if.expr.mode does not exist\n",
      "24/06/29 12:10:44 WARN HiveConf: HiveConf of name hive.exim.test.mode does not exist\n",
      "24/06/29 12:10:44 WARN HiveConf: HiveConf of name hive.query.results.cache.directory does not exist\n",
      "24/06/29 12:10:44 WARN HiveConf: HiveConf of name hive.query.results.cache.wait.for.pending.results does not exist\n",
      "24/06/29 12:10:44 WARN HiveConf: HiveConf of name hive.remove.orderby.in.subquery does not exist\n",
      "24/06/29 12:10:44 WARN HiveConf: HiveConf of name hive.tez.bmj.use.subcache does not exist\n",
      "24/06/29 12:10:44 WARN HiveConf: HiveConf of name hive.llap.io.vrb.queue.limit.min does not exist\n",
      "24/06/29 12:10:44 WARN HiveConf: HiveConf of name hive.server2.wm.pool.metrics does not exist\n",
      "24/06/29 12:10:44 WARN HiveConf: HiveConf of name hive.repl.add.raw.reserved.namespace does not exist\n",
      "24/06/29 12:10:44 WARN HiveConf: HiveConf of name hive.resource.use.hdfs.location does not exist\n",
      "24/06/29 12:10:44 WARN HiveConf: HiveConf of name hive.stats.num.nulls.estimate.percent does not exist\n",
      "24/06/29 12:10:44 WARN HiveConf: HiveConf of name hive.llap.io.acid does not exist\n",
      "24/06/29 12:10:44 WARN HiveConf: HiveConf of name hive.llap.zk.sm.session.timeout does not exist\n",
      "24/06/29 12:10:44 WARN HiveConf: HiveConf of name hive.vectorized.ptf.max.memory.buffering.batch.count does not exist\n",
      "24/06/29 12:10:44 WARN HiveConf: HiveConf of name hive.llap.task.scheduler.am.registry does not exist\n",
      "24/06/29 12:10:44 WARN HiveConf: HiveConf of name hive.druid.overlord.address.default does not exist\n",
      "24/06/29 12:10:44 WARN HiveConf: HiveConf of name hive.optimize.remove.sq_count_check does not exist\n",
      "24/06/29 12:10:44 WARN HiveConf: HiveConf of name hive.server2.webui.enable.cors does not exist\n",
      "24/06/29 12:10:44 WARN HiveConf: HiveConf of name hive.vectorized.row.serde.inputformat.excludes does not exist\n",
      "24/06/29 12:10:44 WARN HiveConf: HiveConf of name hive.query.reexecution.stats.cache.size does not exist\n",
      "24/06/29 12:10:44 WARN HiveConf: HiveConf of name hive.combine.equivalent.work.optimization does not exist\n",
      "24/06/29 12:10:44 WARN HiveConf: HiveConf of name hive.lock.query.string.max.length does not exist\n",
      "24/06/29 12:10:44 WARN HiveConf: HiveConf of name hive.llap.io.track.cache.usage does not exist\n",
      "24/06/29 12:10:44 WARN HiveConf: HiveConf of name hive.use.orc.codec.pool does not exist\n",
      "24/06/29 12:10:44 WARN HiveConf: HiveConf of name hive.query.results.cache.max.size does not exist\n",
      "24/06/29 12:10:44 WARN HiveConf: HiveConf of name hive.repl.bootstrap.dump.open.txn.timeout does not exist\n"
     ]
    },
    {
     "name": "stderr",
     "output_type": "stream",
     "text": [
      "24/06/29 12:10:53 WARN ObjectStore: Failed to get database global_temp, returning NoSuchObjectException\n"
     ]
    },
    {
     "name": "stderr",
     "output_type": "stream",
     "text": [
      "24/06/29 12:10:55 WARN HiveExternalCatalog: Couldn't find corresponding Hive SerDe for data source provider delta. Persisting data source table `spark_catalog`.`lh_global_electronics_retailer`.`silver_products` into Hive metastore in Spark SQL specific format, which is NOT compatible with Hive.\n"
     ]
    },
    {
     "name": "stderr",
     "output_type": "stream",
     "text": [
      "24/06/29 12:10:56 WARN SessionState: METASTORE_FILTER_HOOK will be ignored, since hive.security.authorization.manager is set to instance of HiveAuthorizerFactory.\n"
     ]
    },
    {
     "name": "stderr",
     "output_type": "stream",
     "text": [
      "24/06/29 12:10:57 WARN HiveConf: HiveConf of name hive.metastore.wm.default.pool.size does not exist\n",
      "24/06/29 12:10:57 WARN HiveConf: HiveConf of name hive.llap.task.scheduler.preempt.independent does not exist\n",
      "24/06/29 12:10:57 WARN HiveConf: HiveConf of name hive.llap.output.format.arrow does not exist\n",
      "24/06/29 12:10:57 WARN HiveConf: HiveConf of name hive.tez.llap.min.reducer.per.executor does not exist\n",
      "24/06/29 12:10:57 WARN HiveConf: HiveConf of name hive.arrow.root.allocator.limit does not exist\n",
      "24/06/29 12:10:57 WARN HiveConf: HiveConf of name hive.vectorized.use.checked.expressions does not exist\n",
      "24/06/29 12:10:57 WARN HiveConf: HiveConf of name hive.tez.dynamic.semijoin.reduction.for.mapjoin does not exist\n",
      "24/06/29 12:10:57 WARN HiveConf: HiveConf of name hive.vectorized.complex.types.enabled does not exist\n",
      "24/06/29 12:10:57 WARN HiveConf: HiveConf of name hive.server2.wm.worker.threads does not exist\n",
      "24/06/29 12:10:57 WARN HiveConf: HiveConf of name hive.repl.partitions.dump.parallelism does not exist\n",
      "24/06/29 12:10:57 WARN HiveConf: HiveConf of name hive.metastore.uri.selection does not exist\n",
      "24/06/29 12:10:57 WARN HiveConf: HiveConf of name hive.strict.checks.no.partition.filter does not exist\n",
      "24/06/29 12:10:57 WARN HiveConf: HiveConf of name hive.tez.dynamic.semijoin.reduction.for.dpp.factor does not exist\n",
      "24/06/29 12:10:57 WARN HiveConf: HiveConf of name hive.stats.filter.in.min.ratio does not exist\n",
      "24/06/29 12:10:57 WARN HiveConf: HiveConf of name hive.metastore.client.cache.initial.capacity does not exist\n",
      "24/06/29 12:10:57 WARN HiveConf: HiveConf of name hive.stats.ndv.estimate.percent does not exist\n",
      "24/06/29 12:10:57 WARN HiveConf: HiveConf of name hive.server2.webui.cors.allowed.methods does not exist\n",
      "24/06/29 12:10:57 WARN HiveConf: HiveConf of name hive.optimize.joinreducededuplication does not exist\n",
      "24/06/29 12:10:57 WARN HiveConf: HiveConf of name hive.metastore.client.cache.enabled does not exist\n",
      "24/06/29 12:10:57 WARN HiveConf: HiveConf of name hive.stats.fetch.bitvector does not exist\n",
      "24/06/29 12:10:57 WARN HiveConf: HiveConf of name hive.disable.unsafe.external.table.operations does not exist\n",
      "24/06/29 12:10:57 WARN HiveConf: HiveConf of name hive.materializedview.rewriting.incremental does not exist\n",
      "24/06/29 12:10:57 WARN HiveConf: HiveConf of name hive.server2.materializedviews.registry.impl does not exist\n",
      "24/06/29 12:10:57 WARN HiveConf: HiveConf of name hive.metastore.event.db.notification.api.auth does not exist\n",
      "24/06/29 12:10:57 WARN HiveConf: HiveConf of name hive.exec.orc.delta.streaming.optimizations.enabled does not exist\n",
      "24/06/29 12:10:57 WARN HiveConf: HiveConf of name hive.stats.ndv.algo does not exist\n",
      "24/06/29 12:10:57 WARN HiveConf: HiveConf of name hive.spark.job.max.tasks does not exist\n",
      "24/06/29 12:10:57 WARN HiveConf: HiveConf of name hive.msck.repair.batch.max.retries does not exist\n",
      "24/06/29 12:10:57 WARN HiveConf: HiveConf of name hive.prewarm.spark.timeout does not exist\n",
      "24/06/29 12:10:57 WARN HiveConf: HiveConf of name hive.optimize.update.table.properties.from.serde.list does not exist\n",
      "24/06/29 12:10:57 WARN HiveConf: HiveConf of name hive.llap.plugin.client.num.threads does not exist\n",
      "24/06/29 12:10:57 WARN HiveConf: HiveConf of name hive.test.bucketcodec.version does not exist\n",
      "24/06/29 12:10:57 WARN HiveConf: HiveConf of name hive.query.reexecution.enabled does not exist\n",
      "24/06/29 12:10:57 WARN HiveConf: HiveConf of name hive.materializedview.rewriting.time.window does not exist\n",
      "24/06/29 12:10:57 WARN HiveConf: HiveConf of name hive.query.reexecution.stats.cache.batch.size does not exist\n",
      "24/06/29 12:10:57 WARN HiveConf: HiveConf of name hive.server2.webui.cors.allowed.headers does not exist\n",
      "24/06/29 12:10:57 WARN HiveConf: HiveConf of name hive.join.inner.residual does not exist\n",
      "24/06/29 12:10:57 WARN HiveConf: HiveConf of name hive.server2.active.passive.ha.enable does not exist\n",
      "24/06/29 12:10:57 WARN HiveConf: HiveConf of name hive.llap.io.trace.always.dump does not exist\n",
      "24/06/29 12:10:57 WARN HiveConf: HiveConf of name hive.query.reexecution.stats.persist.scope does not exist\n",
      "24/06/29 12:10:57 WARN HiveConf: HiveConf of name hive.mm.allow.originals does not exist\n",
      "24/06/29 12:10:57 WARN HiveConf: HiveConf of name hive.internal.ss.authz.settings.applied.marker does not exist\n",
      "24/06/29 12:10:57 WARN HiveConf: HiveConf of name hive.compactor.compact.insert.only does not exist\n",
      "24/06/29 12:10:57 WARN HiveConf: HiveConf of name hive.txn.xlock.iow does not exist\n",
      "24/06/29 12:10:57 WARN HiveConf: HiveConf of name hive.spark.rsc.conf.list does not exist\n",
      "24/06/29 12:10:57 WARN HiveConf: HiveConf of name hive.stats.jdbc.timeout does not exist\n",
      "24/06/29 12:10:57 WARN HiveConf: HiveConf of name hive.llap.cache.defaultfs.only.native.fileid does not exist\n",
      "24/06/29 12:10:57 WARN HiveConf: HiveConf of name hive.spark.optimize.shuffle.serde does not exist\n",
      "24/06/29 12:10:57 WARN HiveConf: HiveConf of name hive.testing.remove.logs does not exist\n",
      "24/06/29 12:10:57 WARN HiveConf: HiveConf of name hive.distcp.privileged.doAs does not exist\n",
      "24/06/29 12:10:57 WARN HiveConf: HiveConf of name hive.strict.checks.orderby.no.limit does not exist\n",
      "24/06/29 12:10:57 WARN HiveConf: HiveConf of name hive.metastore.client.cache.expiry.time does not exist\n",
      "24/06/29 12:10:57 WARN HiveConf: HiveConf of name hive.llap.io.allocator.defrag.headroom does not exist\n",
      "24/06/29 12:10:57 WARN HiveConf: HiveConf of name hive.notification.event.consumers does not exist\n",
      "24/06/29 12:10:57 WARN HiveConf: HiveConf of name hive.vectorized.input.format.supports.enabled does not exist\n",
      "24/06/29 12:10:57 WARN HiveConf: HiveConf of name hive.metastore.client.cache.max.capacity does not exist\n",
      "24/06/29 12:10:57 WARN HiveConf: HiveConf of name hive.repl.dumpdir.clean.freq does not exist\n",
      "24/06/29 12:10:57 WARN HiveConf: HiveConf of name hive.spark.use.ts.stats.for.mapjoin does not exist\n",
      "24/06/29 12:10:57 WARN HiveConf: HiveConf of name hive.repl.dump.include.acid.tables does not exist\n",
      "24/06/29 12:10:57 WARN HiveConf: HiveConf of name hive.server2.webui.use.pam does not exist\n",
      "24/06/29 12:10:57 WARN HiveConf: HiveConf of name hive.query.reexecution.max.count does not exist\n",
      "24/06/29 12:10:57 WARN HiveConf: HiveConf of name hive.llap.io.share.object.pools does not exist\n",
      "24/06/29 12:10:57 WARN HiveConf: HiveConf of name hive.optimize.update.table.properties.from.serde does not exist\n",
      "24/06/29 12:10:57 WARN HiveConf: HiveConf of name hive.service.metrics.codahale.reporter.classes does not exist\n",
      "24/06/29 12:10:57 WARN HiveConf: HiveConf of name hive.tez.session.events.print.summary does not exist\n",
      "24/06/29 12:10:57 WARN HiveConf: HiveConf of name hive.llap.io.vrb.queue.limit.base does not exist\n",
      "24/06/29 12:10:57 WARN HiveConf: HiveConf of name hive.mm.avoid.s3.globstatus does not exist\n",
      "24/06/29 12:10:57 WARN HiveConf: HiveConf of name hive.repl.replica.functions.root.dir does not exist\n",
      "24/06/29 12:10:57 WARN HiveConf: HiveConf of name hive.query.results.cache.max.entry.lifetime does not exist\n",
      "24/06/29 12:10:57 WARN HiveConf: HiveConf of name hive.server2.limit.connections.per.user does not exist\n",
      "24/06/29 12:10:57 WARN HiveConf: HiveConf of name hive.server2.thrift.http.compression.enabled does not exist\n",
      "24/06/29 12:10:57 WARN HiveConf: HiveConf of name hive.vectorized.execution.ptf.enabled does not exist\n",
      "24/06/29 12:10:57 WARN HiveConf: HiveConf of name hive.optimize.shared.work.extended does not exist\n",
      "24/06/29 12:10:57 WARN HiveConf: HiveConf of name hive.vectorized.row.identifier.enabled does not exist\n",
      "24/06/29 12:10:57 WARN HiveConf: HiveConf of name hive.query.reexecution.always.collect.operator.stats does not exist\n",
      "24/06/29 12:10:57 WARN HiveConf: HiveConf of name hive.repl.dumpdir.ttl does not exist\n",
      "24/06/29 12:10:57 WARN HiveConf: HiveConf of name hive.local.time.zone does not exist\n",
      "24/06/29 12:10:57 WARN HiveConf: HiveConf of name hive.server2.tez.wm.am.registry.timeout does not exist\n",
      "24/06/29 12:10:57 WARN HiveConf: HiveConf of name hive.server2.active.passive.ha.registry.namespace does not exist\n",
      "24/06/29 12:10:57 WARN HiveConf: HiveConf of name hive.create.as.insert.only does not exist\n",
      "24/06/29 12:10:57 WARN HiveConf: HiveConf of name hive.llap.mapjoin.memory.oversubscribe.factor does not exist\n",
      "24/06/29 12:10:57 WARN HiveConf: HiveConf of name hive.arrow.batch.size does not exist\n",
      "24/06/29 12:10:57 WARN HiveConf: HiveConf of name hive.notification.sequence.lock.retry.sleep.interval does not exist\n",
      "24/06/29 12:10:57 WARN HiveConf: HiveConf of name hive.repl.approx.max.load.tasks does not exist\n",
      "24/06/29 12:10:57 WARN HiveConf: HiveConf of name hive.query.results.cache.enabled does not exist\n",
      "24/06/29 12:10:57 WARN HiveConf: HiveConf of name hive.legacy.schema.for.all.serdes does not exist\n",
      "24/06/29 12:10:57 WARN HiveConf: HiveConf of name hive.tez.dag.status.check.interval does not exist\n",
      "24/06/29 12:10:57 WARN HiveConf: HiveConf of name hive.druid.bitmap.type does not exist\n",
      "24/06/29 12:10:57 WARN HiveConf: HiveConf of name hive.spark.dynamic.partition.pruning.map.join.only does not exist\n",
      "24/06/29 12:10:57 WARN HiveConf: HiveConf of name hive.llap.memory.oversubscription.max.executors.per.query does not exist\n",
      "24/06/29 12:10:57 WARN HiveConf: HiveConf of name hive.llap.io.trace.size does not exist\n",
      "24/06/29 12:10:57 WARN HiveConf: HiveConf of name hive.llap.plugin.rpc.num.handlers does not exist\n",
      "24/06/29 12:10:57 WARN HiveConf: HiveConf of name hive.server2.wm.allow.any.pool.via.jdbc does not exist\n",
      "24/06/29 12:10:57 WARN HiveConf: HiveConf of name hive.vectorized.groupby.complex.types.enabled does not exist\n",
      "24/06/29 12:10:57 WARN HiveConf: HiveConf of name hive.avro.timestamp.skip.conversion does not exist\n",
      "24/06/29 12:10:57 WARN HiveConf: HiveConf of name hive.query.results.cache.nontransactional.tables.enabled does not exist\n",
      "24/06/29 12:10:57 WARN HiveConf: HiveConf of name hive.stats.correlated.multi.key.joins does not exist\n",
      "24/06/29 12:10:57 WARN HiveConf: HiveConf of name hive.metastore.db.type does not exist\n",
      "24/06/29 12:10:57 WARN HiveConf: HiveConf of name hive.streaming.auto.flush.check.interval.size does not exist\n",
      "24/06/29 12:10:57 WARN HiveConf: HiveConf of name hive.zookeeper.connection.timeout does not exist\n",
      "24/06/29 12:10:57 WARN HiveConf: HiveConf of name hive.query.reexecution.strategies does not exist\n",
      "24/06/29 12:10:57 WARN HiveConf: HiveConf of name hive.server2.limit.connections.per.user.ipaddress does not exist\n",
      "24/06/29 12:10:57 WARN HiveConf: HiveConf of name hive.llap.mapjoin.memory.monitor.check.interval does not exist\n",
      "24/06/29 12:10:57 WARN HiveConf: HiveConf of name hive.optimize.shared.work does not exist\n",
      "24/06/29 12:10:57 WARN HiveConf: HiveConf of name hive.stats.estimate does not exist\n",
      "24/06/29 12:10:57 WARN HiveConf: HiveConf of name hive.llap.io.allocator.discard.method does not exist\n",
      "24/06/29 12:10:57 WARN HiveConf: HiveConf of name hive.tez.cartesian-product.enabled does not exist\n",
      "24/06/29 12:10:57 WARN HiveConf: HiveConf of name hive.notification.sequence.lock.max.retries does not exist\n",
      "24/06/29 12:10:57 WARN HiveConf: HiveConf of name hive.heap.memory.monitor.usage.threshold does not exist\n",
      "24/06/29 12:10:57 WARN HiveConf: HiveConf of name hive.privilege.synchronizer.interval does not exist\n",
      "24/06/29 12:10:57 WARN HiveConf: HiveConf of name hive.vectorized.adaptor.suppress.evaluate.exceptions does not exist\n",
      "24/06/29 12:10:57 WARN HiveConf: HiveConf of name hive.materializedview.rebuild.incremental does not exist\n",
      "24/06/29 12:10:57 WARN HiveConf: HiveConf of name hive.query.results.cache.max.entry.size does not exist\n",
      "24/06/29 12:10:57 WARN HiveConf: HiveConf of name hive.spark.stage.max.tasks does not exist\n",
      "24/06/29 12:10:57 WARN HiveConf: HiveConf of name hive.testing.short.logs does not exist\n",
      "24/06/29 12:10:57 WARN HiveConf: HiveConf of name hive.streaming.auto.flush.enabled does not exist\n",
      "24/06/29 12:10:57 WARN HiveConf: HiveConf of name hive.spark.explain.user does not exist\n",
      "24/06/29 12:10:57 WARN HiveConf: HiveConf of name hive.describe.partitionedtable.ignore.stats does not exist\n",
      "24/06/29 12:10:57 WARN HiveConf: HiveConf of name hive.server2.operation.log.cleanup.delay does not exist\n",
      "24/06/29 12:10:57 WARN HiveConf: HiveConf of name hive.repl.dump.metadata.only does not exist\n",
      "24/06/29 12:10:57 WARN HiveConf: HiveConf of name hive.optimize.countdistinct does not exist\n",
      "24/06/29 12:10:57 WARN HiveConf: HiveConf of name hive.auto.convert.join.shuffle.max.size does not exist\n",
      "24/06/29 12:10:57 WARN HiveConf: HiveConf of name hive.llap.plugin.acl does not exist\n",
      "24/06/29 12:10:57 WARN HiveConf: HiveConf of name hive.metastore.schema.info.class does not exist\n",
      "24/06/29 12:10:57 WARN HiveConf: HiveConf of name hive.server2.tez.queue.access.check does not exist\n",
      "24/06/29 12:10:57 WARN HiveConf: HiveConf of name hive.llap.external.splits.temp.table.storage.format does not exist\n",
      "24/06/29 12:10:57 WARN HiveConf: HiveConf of name hive.llap.io.row.wrapper.enabled does not exist\n",
      "24/06/29 12:10:57 WARN HiveConf: HiveConf of name hive.constraint.notnull.enforce does not exist\n",
      "24/06/29 12:10:57 WARN HiveConf: HiveConf of name hive.cli.print.escape.crlf does not exist\n",
      "24/06/29 12:10:57 WARN HiveConf: HiveConf of name hive.trigger.validation.interval does not exist\n",
      "24/06/29 12:10:57 WARN HiveConf: HiveConf of name hive.server2.webui.cors.allowed.origins does not exist\n",
      "24/06/29 12:10:57 WARN HiveConf: HiveConf of name hive.server2.limit.connections.per.ipaddress does not exist\n",
      "24/06/29 12:10:57 WARN HiveConf: HiveConf of name hive.llap.external.splits.order.by.force.single.split does not exist\n",
      "24/06/29 12:10:57 WARN HiveConf: HiveConf of name hive.metastore.client.cache.stats.enabled does not exist\n",
      "24/06/29 12:10:57 WARN HiveConf: HiveConf of name hive.notification.event.poll.interval does not exist\n",
      "24/06/29 12:10:57 WARN HiveConf: HiveConf of name hive.transactional.concatenate.noblock does not exist\n",
      "24/06/29 12:10:57 WARN HiveConf: HiveConf of name hive.materializedview.rewriting.strategy does not exist\n",
      "24/06/29 12:10:57 WARN HiveConf: HiveConf of name hive.vectorized.if.expr.mode does not exist\n",
      "24/06/29 12:10:57 WARN HiveConf: HiveConf of name hive.exim.test.mode does not exist\n",
      "24/06/29 12:10:57 WARN HiveConf: HiveConf of name hive.query.results.cache.directory does not exist\n",
      "24/06/29 12:10:57 WARN HiveConf: HiveConf of name hive.query.results.cache.wait.for.pending.results does not exist\n",
      "24/06/29 12:10:57 WARN HiveConf: HiveConf of name hive.remove.orderby.in.subquery does not exist\n",
      "24/06/29 12:10:57 WARN HiveConf: HiveConf of name hive.tez.bmj.use.subcache does not exist\n",
      "24/06/29 12:10:57 WARN HiveConf: HiveConf of name hive.llap.io.vrb.queue.limit.min does not exist\n",
      "24/06/29 12:10:57 WARN HiveConf: HiveConf of name hive.server2.wm.pool.metrics does not exist\n",
      "24/06/29 12:10:57 WARN HiveConf: HiveConf of name hive.repl.add.raw.reserved.namespace does not exist\n",
      "24/06/29 12:10:57 WARN HiveConf: HiveConf of name hive.resource.use.hdfs.location does not exist\n",
      "24/06/29 12:10:57 WARN HiveConf: HiveConf of name hive.stats.num.nulls.estimate.percent does not exist\n",
      "24/06/29 12:10:57 WARN HiveConf: HiveConf of name hive.llap.io.acid does not exist\n",
      "24/06/29 12:10:57 WARN HiveConf: HiveConf of name hive.llap.zk.sm.session.timeout does not exist\n",
      "24/06/29 12:10:57 WARN HiveConf: HiveConf of name hive.vectorized.ptf.max.memory.buffering.batch.count does not exist\n",
      "24/06/29 12:10:57 WARN HiveConf: HiveConf of name hive.llap.task.scheduler.am.registry does not exist\n",
      "24/06/29 12:10:57 WARN HiveConf: HiveConf of name hive.druid.overlord.address.default does not exist\n",
      "24/06/29 12:10:57 WARN HiveConf: HiveConf of name hive.optimize.remove.sq_count_check does not exist\n",
      "24/06/29 12:10:57 WARN HiveConf: HiveConf of name hive.server2.webui.enable.cors does not exist\n",
      "24/06/29 12:10:57 WARN HiveConf: HiveConf of name hive.stats.retries.wait does not exist\n",
      "24/06/29 12:10:57 WARN HiveConf: HiveConf of name hive.vectorized.row.serde.inputformat.excludes does not exist\n",
      "24/06/29 12:10:57 WARN HiveConf: HiveConf of name hive.query.reexecution.stats.cache.size does not exist\n",
      "24/06/29 12:10:57 WARN HiveConf: HiveConf of name hive.combine.equivalent.work.optimization does not exist\n",
      "24/06/29 12:10:57 WARN HiveConf: HiveConf of name hive.lock.query.string.max.length does not exist\n",
      "24/06/29 12:10:57 WARN HiveConf: HiveConf of name hive.llap.io.track.cache.usage does not exist\n",
      "24/06/29 12:10:57 WARN HiveConf: HiveConf of name hive.use.orc.codec.pool does not exist\n",
      "24/06/29 12:10:57 WARN HiveConf: HiveConf of name hive.query.results.cache.max.size does not exist\n",
      "24/06/29 12:10:57 WARN HiveConf: HiveConf of name hive.repl.bootstrap.dump.open.txn.timeout does not exist\n"
     ]
    },
    {
     "name": "stderr",
     "output_type": "stream",
     "text": [
      "\r",
      "[Stage 5:>                                                          (0 + 1) / 1]\r"
     ]
    },
    {
     "name": "stderr",
     "output_type": "stream",
     "text": [
      "\r",
      "                                                                                \r"
     ]
    },
    {
     "name": "stdout",
     "output_type": "stream",
     "text": [
      "Task  8   Success\n"
     ]
    },
    {
     "name": "stderr",
     "output_type": "stream",
     "text": [
      "\r",
      "[Stage 11:>                                                         (0 + 4) / 4]\r"
     ]
    },
    {
     "name": "stderr",
     "output_type": "stream",
     "text": [
      "\r",
      "[Stage 11:=============================>                            (2 + 2) / 4]\r"
     ]
    },
    {
     "name": "stderr",
     "output_type": "stream",
     "text": [
      "\r",
      "[Stage 11:===========================================>              (3 + 1) / 4]\r"
     ]
    },
    {
     "name": "stderr",
     "output_type": "stream",
     "text": [
      "\r",
      "                                                                                \r"
     ]
    },
    {
     "name": "stderr",
     "output_type": "stream",
     "text": [
      "\r",
      "[Stage 14:>                                                         (0 + 1) / 1]\r"
     ]
    },
    {
     "name": "stderr",
     "output_type": "stream",
     "text": [
      "\r",
      "                                                                                \r"
     ]
    },
    {
     "name": "stderr",
     "output_type": "stream",
     "text": [
      "24/06/29 12:13:59 WARN HiveExternalCatalog: Couldn't find corresponding Hive SerDe for data source provider delta. Persisting data source table `spark_catalog`.`lh_global_electronics_retailer`.`silver_customer` into Hive metastore in Spark SQL specific format, which is NOT compatible with Hive.\n"
     ]
    },
    {
     "name": "stdout",
     "output_type": "stream",
     "text": [
      "Task  6   Success\n"
     ]
    },
    {
     "name": "stderr",
     "output_type": "stream",
     "text": [
      "\r",
      "[Stage 22:>                                                         (0 + 4) / 4]\r"
     ]
    },
    {
     "name": "stderr",
     "output_type": "stream",
     "text": [
      "\r",
      "[Stage 22:=============================>                            (2 + 2) / 4]\r"
     ]
    },
    {
     "name": "stderr",
     "output_type": "stream",
     "text": [
      "\r",
      "                                                                                \r"
     ]
    },
    {
     "name": "stderr",
     "output_type": "stream",
     "text": [
      "\r",
      "[Stage 25:>                                                         (0 + 1) / 1]\r"
     ]
    },
    {
     "name": "stderr",
     "output_type": "stream",
     "text": [
      "\r",
      "                                                                                \r"
     ]
    },
    {
     "name": "stderr",
     "output_type": "stream",
     "text": [
      "24/06/29 12:15:16 WARN HiveExternalCatalog: Couldn't find corresponding Hive SerDe for data source provider delta. Persisting data source table `spark_catalog`.`lh_global_electronics_retailer`.`silver_stores` into Hive metastore in Spark SQL specific format, which is NOT compatible with Hive.\n"
     ]
    },
    {
     "name": "stdout",
     "output_type": "stream",
     "text": [
      "Task  7   Success\n"
     ]
    },
    {
     "name": "stderr",
     "output_type": "stream",
     "text": [
      "\r",
      "[Stage 36:>                                                         (0 + 1) / 1]\r"
     ]
    },
    {
     "name": "stderr",
     "output_type": "stream",
     "text": [
      "\r",
      "                                                                                \r"
     ]
    },
    {
     "name": "stderr",
     "output_type": "stream",
     "text": [
      "24/06/29 12:15:30 WARN HiveExternalCatalog: Couldn't find corresponding Hive SerDe for data source provider delta. Persisting data source table `spark_catalog`.`lh_global_electronics_retailer`.`silver_exchange_rates` into Hive metastore in Spark SQL specific format, which is NOT compatible with Hive.\n"
     ]
    },
    {
     "name": "stdout",
     "output_type": "stream",
     "text": [
      "Task  10   Success\n"
     ]
    },
    {
     "name": "stderr",
     "output_type": "stream",
     "text": [
      "\r",
      "[Stage 44:=============================>                            (2 + 2) / 4]\r"
     ]
    },
    {
     "name": "stderr",
     "output_type": "stream",
     "text": [
      "\r",
      "[Stage 44:===========================================>              (3 + 1) / 4]\r"
     ]
    },
    {
     "name": "stderr",
     "output_type": "stream",
     "text": [
      "\r",
      "                                                                                \r"
     ]
    },
    {
     "name": "stderr",
     "output_type": "stream",
     "text": [
      "\r",
      "[Stage 47:>                                                         (0 + 1) / 1]\r",
      "\r",
      "                                                                                \r"
     ]
    },
    {
     "name": "stderr",
     "output_type": "stream",
     "text": [
      "24/06/29 12:16:34 WARN HiveExternalCatalog: Couldn't find corresponding Hive SerDe for data source provider delta. Persisting data source table `spark_catalog`.`lh_global_electronics_retailer`.`silver_sales` into Hive metastore in Spark SQL specific format, which is NOT compatible with Hive.\n"
     ]
    },
    {
     "name": "stdout",
     "output_type": "stream",
     "text": [
      "Task  9   Success\n"
     ]
    },
    {
     "name": "stderr",
     "output_type": "stream",
     "text": [
      "\r",
      "[Stage 55:=============================>                            (2 + 2) / 4]\r",
      "\r",
      "[Stage 55:===========================================>              (3 + 1) / 4]\r"
     ]
    },
    {
     "name": "stderr",
     "output_type": "stream",
     "text": [
      "\r",
      "                                                                                \r"
     ]
    }
   ],
   "source": [
    "# Read metadata action\n",
    "# metadata_action = metadata.read_metadata_action(\"admin\", \"admin\", \"metadata\", \"config_table\", \\\n",
    "#                                                 \"CusDB -> Bronze\")\n",
    "\n",
    "from airflow.models import Variable\n",
    "metadata_action = Variable.get(key = \"metadata_action\", deserialize_json = True, default_var = None)\n",
    "\n",
    "\n",
    "# Define for log job\n",
    "batch_run = hdfsUtils.check_batch_run(project_name, executionDate) - 1\n",
    "start_time = \"\"\n",
    "end_time = \"\"\n",
    "error = \"\"\n",
    "status = \"\"\n",
    "source_row_read = 0\n",
    "numInserted = 0\n",
    "numUpdated = 0\n",
    "\n",
    "\n",
    "from delta.tables import *\n",
    "\n",
    "\n",
    "for metadata in metadata_action:\n",
    "\n",
    "    # None df\n",
    "    df = None\n",
    "\n",
    "    task_id = metadata[\"task_id\"]\n",
    "    task_name = metadata[\"task_name\"]\n",
    "    source_connection = metadata[\"source_connection\"]\n",
    "    target_database = metadata[\"target_database\"]\n",
    "    source_folder = metadata[\"source_folder\"].lower()\n",
    "    target_table = metadata[\"target_table\"].lower()\n",
    "    phase = metadata[\"phase\"]\n",
    "\n",
    "    # Start time for check\n",
    "    start_time = spark.sql(''' SELECT CURRENT_TIMESTAMP() as current_time ''') \\\n",
    "                        .collect()[0][\"current_time\"].strftime('%Y-%m-%d %H:%M:%S')\n",
    "    \n",
    "\n",
    "    try:\n",
    "        # New df path\n",
    "        new_path_version = hdfsUtils.get_new_version(executionDate, project_name, source_folder)\n",
    "\n",
    "        df = spark.read.format(\"parquet\").load(new_path_version)\n",
    "\n",
    "\n",
    "        # Transformation\n",
    "            # Task 6\n",
    "        if source_folder == \"customers\":\n",
    "            \n",
    "            df = df.withColumnRenamed(\"State Code\", \"StateCode\") \\\n",
    "                   .withColumnRenamed(\"Zip Code\", \"ZipCode\")\n",
    "        \n",
    "            # Task = 7, Stores\n",
    "        elif source_folder == \"stores\":\n",
    "\n",
    "            df = df.withColumnRenamed(\"Square Meters\", \"SquareMeters\") \\\n",
    "                   .withColumnRenamed(\"Open Date\", \"OpenDate\")\n",
    "            \n",
    "            # Task = 8, Products\n",
    "        elif source_folder == \"products\":\n",
    "\n",
    "            df = df.withColumnRenamed(\"Product Name\", \"ProductName\") \\\n",
    "                   .withColumnRenamed(\"Unit Cost USD\", \"Unit_Cost_USD\") \\\n",
    "                   .withColumnRenamed(\"Unit Price USD\", \"Unit_Price_USD\")\n",
    "            \n",
    "            # Task = 9, Sales\n",
    "        elif source_folder == \"sales\":\n",
    "\n",
    "            df = df.withColumnRenamed(\"Order Number\", \"OrderNumber\") \\\n",
    "                   .withColumnRenamed(\"Line Item\", \"LineItem\") \\\n",
    "                   .withColumnRenamed(\"Order Date\", \"OrderDate\") \\\n",
    "                   .withColumnRenamed(\"Delivery Date\", \"DeliveryDate\") \\\n",
    "                   .withColumnRenamed(\"Currency Code\", \"CurrencyCode\")\n",
    "            \n",
    "            # Task = 10, Exchange_Rates\n",
    "        elif source_folder == \"exchange_rates\":\n",
    "\n",
    "            df = df.withColumn(\"Exchange\", f.col(\"Exchange\").cast(\"Float\"))\n",
    "\n",
    "\n",
    "        # df.show()\n",
    "        deltaTablePath = f\"{lakehouse_table_path}/{target_table}\"\n",
    "\n",
    "        loadHive.writeInit(df, spark, lakehouse_table_path, lakewarehouse_db, target_table)\n",
    "            \n",
    "        source_row_read = df.count()\n",
    "        numInserted = df.count()\n",
    "        numUpdated = 0\n",
    "\n",
    "        # if DeltaTable.isDeltaTable(spark, deltaTablePath):\n",
    "\n",
    "        #     # Condition for Upsert\n",
    "        #     mergeKeyExpr = \" AND \".join(f\"target.{col} = source.{col}\" for col in df.columns) \n",
    "\n",
    "        #     # Upsert(Update existing, Insert new) data\n",
    "        #     deltaTable = DeltaTable.forPath(spark, deltaTablePath)\n",
    "        #     deltaTable.alias(\"target\").merge(\n",
    "        #         df.alias(\"source\"),\n",
    "        #         mergeKeyExpr\n",
    "        #     ).whenMatchedUpdateAll().whenNotMatchedInsertAll().execute()\n",
    "\n",
    "        #     # Get information\n",
    "        #     history = deltaTable.history(1).select(\"operationMetrics\")\n",
    "        #     operationMetrics = history.collect()[0][\"operationMetrics\"]\n",
    "\n",
    "        #     source_row_read = df.count()\n",
    "        #     numInserted = operationMetrics[\"numTargetRowsInserted\"]\n",
    "        #     numUpdated = operationMetrics[\"numTargetRowsUpdated\"]\n",
    "        # else:\n",
    "        #     loadHive.writeInit(df, spark, lakehouse_table_path, lakewarehouse_db, target_table)\n",
    "            \n",
    "        #     source_row_read = df.count()\n",
    "        #     numInserted = df.count()\n",
    "        #     numUpdated = 0\n",
    "\n",
    "        # Load to delta\n",
    "    except:\n",
    "        error = traceback.format_exc()\n",
    "        status = \"Failed\"\n",
    "\n",
    "        print(\"Task \", task_id, \" \", status)\n",
    "\n",
    "    else:\n",
    "        error = \"\"\n",
    "        status = \"Success\"\n",
    "        print(\"Task \", task_id, \" \", status)\n",
    "\n",
    "\n",
    "    df_log = logUtils.log_data(batch_run, task_name, source_connection, target_database, f\"parquet_{source_folder}\",\n",
    "                 target_table, start_time, end_time, source_row_read, numInserted, numUpdated, \"\", \n",
    "                 \"\", error, status, phase, t, spark)\n",
    "\n",
    "    df_log.write.mode(\"append\").format(\"parquet\").save(f\"{log_path}/{executionDate}/batch_{batch_run}/\")"
   ]
  }
 ],
 "metadata": {
  "kernelspec": {
   "display_name": "Python 3",
   "language": "python",
   "name": "python3"
  },
  "language_info": {
   "codemirror_mode": {
    "name": "ipython",
    "version": 3
   },
   "file_extension": ".py",
   "mimetype": "text/x-python",
   "name": "python",
   "nbconvert_exporter": "python",
   "pygments_lexer": "ipython3",
   "version": "3.10.12"
  },
  "papermill": {
   "default_parameters": {},
   "duration": 453.554213,
   "end_time": "2024-06-29T05:16:40.702845",
   "environment_variables": {},
   "exception": null,
   "input_path": "/home/thanhphat/PersonalProject/Global_Electronics_Retailer/source/NB_bronze_to_silver.ipynb",
   "output_path": "/home/thanhphat/PersonalProject/Global_Electronics_Retailer/source/NB_output_phase_2.ipynb",
   "parameters": {},
   "start_time": "2024-06-29T05:09:07.148632",
   "version": "2.6.0"
  }
 },
 "nbformat": 4,
 "nbformat_minor": 5
}