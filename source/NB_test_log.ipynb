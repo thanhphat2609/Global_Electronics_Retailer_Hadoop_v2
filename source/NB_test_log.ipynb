{
 "cells": [
  {
   "cell_type": "code",
   "execution_count": 2,
   "metadata": {},
   "outputs": [],
   "source": [
    "import findspark\n",
    "findspark.init(spark_home = \"/home/thanhphat/BigData/spark-3.5.0-bin-hadoop3\")"
   ]
  },
  {
   "cell_type": "code",
   "execution_count": 3,
   "metadata": {},
   "outputs": [],
   "source": [
    "from pyspark.sql import SparkSession\n",
    "\n",
    "import pyspark.sql.functions as f\n",
    "import pyspark.sql.types as t"
   ]
  },
  {
   "cell_type": "code",
   "execution_count": 4,
   "metadata": {},
   "outputs": [
    {
     "name": "stderr",
     "output_type": "stream",
     "text": [
      "24/06/26 22:01:38 WARN Utils: Your hostname, thanhphat-inspiron-5406-2n1 resolves to a loopback address: 127.0.1.1; using 192.168.1.7 instead (on interface wlp0s20f3)\n",
      "24/06/26 22:01:38 WARN Utils: Set SPARK_LOCAL_IP if you need to bind to another address\n",
      "Setting default log level to \"WARN\".\n",
      "To adjust logging level use sc.setLogLevel(newLevel). For SparkR, use setLogLevel(newLevel).\n",
      "24/06/26 22:01:39 WARN NativeCodeLoader: Unable to load native-hadoop library for your platform... using builtin-java classes where applicable\n",
      "24/06/26 22:01:42 WARN Utils: Service 'SparkUI' could not bind on port 4040. Attempting port 4041.\n"
     ]
    },
    {
     "data": {
      "text/plain": [
       "[('spark.app.id', 'local-1719414102218'),\n",
       " ('spark.driver.port', '44747'),\n",
       " ('spark.executor.id', 'driver'),\n",
       " ('spark.driver.extraJavaOptions',\n",
       "  '-Djava.net.preferIPv6Addresses=false -XX:+IgnoreUnrecognizedVMOptions --add-opens=java.base/java.lang=ALL-UNNAMED --add-opens=java.base/java.lang.invoke=ALL-UNNAMED --add-opens=java.base/java.lang.reflect=ALL-UNNAMED --add-opens=java.base/java.io=ALL-UNNAMED --add-opens=java.base/java.net=ALL-UNNAMED --add-opens=java.base/java.nio=ALL-UNNAMED --add-opens=java.base/java.util=ALL-UNNAMED --add-opens=java.base/java.util.concurrent=ALL-UNNAMED --add-opens=java.base/java.util.concurrent.atomic=ALL-UNNAMED --add-opens=java.base/sun.nio.ch=ALL-UNNAMED --add-opens=java.base/sun.nio.cs=ALL-UNNAMED --add-opens=java.base/sun.security.action=ALL-UNNAMED --add-opens=java.base/sun.util.calendar=ALL-UNNAMED --add-opens=java.security.jgss/sun.security.krb5=ALL-UNNAMED -Djdk.reflect.useDirectMethodHandle=false'),\n",
       " ('spark.rdd.compress', 'True'),\n",
       " ('spark.app.startTime', '1719414099437'),\n",
       " ('spark.app.name', 'Test_log'),\n",
       " ('spark.serializer.objectStreamReset', '100'),\n",
       " ('spark.master', 'local[*]'),\n",
       " ('spark.submit.pyFiles', ''),\n",
       " ('spark.submit.deployMode', 'client'),\n",
       " ('spark.driver.host', '192.168.1.7'),\n",
       " ('spark.app.submitTime', '1719414099035'),\n",
       " ('spark.ui.showConsoleProgress', 'true'),\n",
       " ('spark.executor.extraJavaOptions',\n",
       "  '-Djava.net.preferIPv6Addresses=false -XX:+IgnoreUnrecognizedVMOptions --add-opens=java.base/java.lang=ALL-UNNAMED --add-opens=java.base/java.lang.invoke=ALL-UNNAMED --add-opens=java.base/java.lang.reflect=ALL-UNNAMED --add-opens=java.base/java.io=ALL-UNNAMED --add-opens=java.base/java.net=ALL-UNNAMED --add-opens=java.base/java.nio=ALL-UNNAMED --add-opens=java.base/java.util=ALL-UNNAMED --add-opens=java.base/java.util.concurrent=ALL-UNNAMED --add-opens=java.base/java.util.concurrent.atomic=ALL-UNNAMED --add-opens=java.base/sun.nio.ch=ALL-UNNAMED --add-opens=java.base/sun.nio.cs=ALL-UNNAMED --add-opens=java.base/sun.security.action=ALL-UNNAMED --add-opens=java.base/sun.util.calendar=ALL-UNNAMED --add-opens=java.security.jgss/sun.security.krb5=ALL-UNNAMED -Djdk.reflect.useDirectMethodHandle=false')]"
      ]
     },
     "execution_count": 4,
     "metadata": {},
     "output_type": "execute_result"
    }
   ],
   "source": [
    "# Create SparkSession\n",
    "spark = SparkSession.builder.appName(\"Test_log\").getOrCreate()\n",
    "\n",
    "spark.sparkContext.getConf().getAll()"
   ]
  },
  {
   "cell_type": "code",
   "execution_count": 10,
   "metadata": {},
   "outputs": [
    {
     "name": "stdout",
     "output_type": "stream",
     "text": [
      "+-------+-----------------------------------------------+---------------------------+--------------+-------------------+-------------------+--------------+-----------------+----------------+-------+-------------+----------+-----+---------------+\n",
      "|BatchId|TaskName                                       |SourceDatabase             |SourceTable   |StartTime          |EndTime            |SourceRowsRead|NumTargetInserted|NumTargetUpdated|Status |ColumnMissing|ColumnNull|Error|Phase          |\n",
      "+-------+-----------------------------------------------+---------------------------+--------------+-------------------+-------------------+--------------+-----------------+----------------+-------+-------------+----------+-----+---------------+\n",
      "|1      |Extract table Exchange_Rates to Lakehouse Files|Global_Electronics_Retailer|exchange_rates|2024-06-26 21:57:09|2024-06-26 21:57:57|11215         |11215            |0               |Success|             |          |     |CusDB -> Bronze|\n",
      "|1      |Extract table Customers to Lakehouse Files     |Global_Electronics_Retailer|customers     |2024-06-26 21:56:26|2024-06-26 21:56:36|15266         |15266            |0               |Success|             |          |     |CusDB -> Bronze|\n",
      "|1      |Extract table Products to Lakehouse Files      |Global_Electronics_Retailer|products      |2024-06-26 21:56:55|2024-06-26 21:57:03|2517          |2517             |0               |Success|             |          |     |CusDB -> Bronze|\n",
      "|1      |Extract table Stores to Lakehouse Files        |Global_Electronics_Retailer|stores        |2024-06-26 21:56:43|2024-06-26 21:56:54|67            |67               |0               |Success|             |          |     |CusDB -> Bronze|\n",
      "|1      |Extract table Sales to Lakehouse Files         |Global_Electronics_Retailer|sales         |2024-06-26 21:57:04|2024-06-26 21:57:08|62884         |62884            |0               |Success|             |          |     |CusDB -> Bronze|\n",
      "+-------+-----------------------------------------------+---------------------------+--------------+-------------------+-------------------+--------------+-----------------+----------------+-------+-------------+----------+-----+---------------+\n",
      "\n"
     ]
    }
   ],
   "source": [
    "df = spark.read.format(\"parquet\").load(\"hdfs://localhost:9000/lakehouse/LH_Global_Electronics_Retailer/Files/log/2024-06-26/batch_1\")\n",
    "\n",
    "df.show(truncate=False)"
   ]
  }
 ],
 "metadata": {
  "kernelspec": {
   "display_name": "Python 3",
   "language": "python",
   "name": "python3"
  },
  "language_info": {
   "codemirror_mode": {
    "name": "ipython",
    "version": 3
   },
   "file_extension": ".py",
   "mimetype": "text/x-python",
   "name": "python",
   "nbconvert_exporter": "python",
   "pygments_lexer": "ipython3",
   "version": "3.10.12"
  }
 },
 "nbformat": 4,
 "nbformat_minor": 2
}
